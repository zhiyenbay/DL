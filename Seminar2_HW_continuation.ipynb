{
 "cells": [
  {
   "cell_type": "code",
   "execution_count": 1,
   "metadata": {
    "collapsed": false
   },
   "outputs": [
    {
     "name": "stdout",
     "output_type": "stream",
     "text": [
      "(40000, 3, 32, 32) (40000,)\n",
      "(10000, 3, 32, 32) (10000,)\n"
     ]
    }
   ],
   "source": [
    "import numpy as np\n",
    "from cifar import load_cifar10\n",
    "X_train,y_train,X_val,y_val,X_test,y_test = load_cifar10(\"./load_cifar10\")\n",
    "\n",
    "class_names = np.array(['airplane','automobile ','bird ','cat ','deer ','dog ','frog ','horse ','ship ','truck'])\n",
    "\n",
    "print X_train.shape,y_train.shape\n",
    "print X_test.shape, y_test.shape"
   ]
  },
  {
   "cell_type": "code",
   "execution_count": 2,
   "metadata": {
    "collapsed": true
   },
   "outputs": [],
   "source": [
    "import theano\n",
    "import theano.tensor as T\n",
    "import lasagne\n",
    "\n",
    "input_X = T.tensor4(\"X\")\n",
    "\n",
    "#input dimention (None means \"Arbitrary\" and only works at  the first axes [samples])\n",
    "input_shape = [None,3,32,32]\n",
    "\n",
    "target_y = T.vector(\"target Y integer\",dtype='int32')"
   ]
  },
  {
   "cell_type": "code",
   "execution_count": 3,
   "metadata": {
    "collapsed": true
   },
   "outputs": [],
   "source": [
    "\n",
    "def iterate_minibatches(inputs, targets, batchsize, shuffle=False):\n",
    "    assert len(inputs) == len(targets)\n",
    "    if shuffle:\n",
    "        indices = np.arange(len(inputs))\n",
    "        np.random.shuffle(indices)\n",
    "    for start_idx in range(0, len(inputs) - batchsize + 1, batchsize):\n",
    "        if shuffle:\n",
    "            excerpt = indices[start_idx:start_idx + batchsize]\n",
    "        else:\n",
    "            excerpt = slice(start_idx, start_idx + batchsize)\n",
    "        yield inputs[excerpt], targets[excerpt]        \n",
    "        "
   ]
  },
  {
   "cell_type": "code",
   "execution_count": 4,
   "metadata": {
    "collapsed": true
   },
   "outputs": [],
   "source": [
    "def architecture(input_var, input_shape=(3, 32, 32),\n",
    "              ccp_num_filters=[64, 128], ccp_filter_size=3,\n",
    "              fc_num_units=[128, 128], num_classes=10,\n",
    "              **junk):\n",
    "    # input layer\n",
    "    network = lasagne.layers.InputLayer(shape=(None,) + input_shape,\n",
    "                                        input_var=input_var)\n",
    "    # conv-relu-conv-relu-pool layers\n",
    "    for num_filters in ccp_num_filters:\n",
    "        network = lasagne.layers.Conv2DLayer(\n",
    "            network, num_filters=num_filters,\n",
    "            filter_size=(ccp_filter_size, ccp_filter_size),\n",
    "            pad='same',\n",
    "            nonlinearity=lasagne.nonlinearities.rectify,\n",
    "            W=lasagne.init.GlorotUniform(gain='relu'))\n",
    "        network = lasagne.layers.Conv2DLayer(\n",
    "            network, num_filters=num_filters,\n",
    "            filter_size=(ccp_filter_size, ccp_filter_size),\n",
    "            pad='same',\n",
    "            nonlinearity=lasagne.nonlinearities.rectify,\n",
    "            W=lasagne.init.GlorotUniform(gain='relu'))\n",
    "        network = lasagne.layers.MaxPool2DLayer(network, pool_size=(2, 2))\n",
    "    # fc-relu\n",
    "    for num_units in fc_num_units:\n",
    "        network = lasagne.layers.DenseLayer(\n",
    "            lasagne.layers.dropout(network, p=.5),\n",
    "            num_units=num_units,\n",
    "            nonlinearity=lasagne.nonlinearities.rectify,\n",
    "            W=lasagne.init.GlorotUniform(gain='relu'))\n",
    "    # output layer\n",
    "    network = lasagne.layers.DenseLayer(\n",
    "        lasagne.layers.dropout(network, p=.5),\n",
    "        num_units=num_classes,\n",
    "        nonlinearity=lasagne.nonlinearities.softmax)\n",
    "    return network"
   ]
  },
  {
   "cell_type": "code",
   "execution_count": 5,
   "metadata": {
    "collapsed": true
   },
   "outputs": [],
   "source": [
    "param = dict(ccp_num_filters=[64, 128], ccp_filter_size=3,\n",
    "             fc_num_units=[256, 256], num_classes=10,\n",
    "             learning_rate=1e-2, learning_rate_decay=0.5,\n",
    "             momentum=0.9, momentum_decay=0.5,\n",
    "             decay_after_epochs=10,\n",
    "             batch_size=128, num_epochs=50)"
   ]
  },
  {
   "cell_type": "code",
   "execution_count": 6,
   "metadata": {
    "collapsed": true
   },
   "outputs": [],
   "source": [
    "dense_output = architecture(input_X, **param)\n",
    "y_predicted = lasagne.layers.get_output(dense_output)\n",
    "all_weights = lasagne.layers.get_all_params(dense_output,trainable=True)\n",
    "\n",
    "\n",
    "#Mean categorical crossentropy as a loss function - similar to logistic loss but for multiclass targets\n",
    "loss = lasagne.objectives.categorical_crossentropy(y_predicted,target_y).mean()\n",
    "\n",
    "#prediction accuracy (WITH dropout)\n",
    "accuracy = lasagne.objectives.categorical_accuracy(y_predicted,target_y).mean()\n",
    "\n",
    "#This function computes gradient AND composes weight updates just like you did earlier\n",
    "updates_adam = lasagne.updates.adam(loss, all_weights,learning_rate=0.001)\n",
    "\n",
    "train_fun = theano.function([input_X,target_y],[loss,accuracy],updates= updates_adam)\n",
    "\n",
    "\n",
    "#deterministic prediciton (without dropout)\n",
    "y_predicted_det = lasagne.layers.get_output(dense_output, deterministic = True)\n",
    "\n",
    "#prediction accuracy (without dropout)\n",
    "accuracy_det = lasagne.objectives.categorical_accuracy(y_predicted_det,target_y).mean()\n",
    "\n",
    "#function that just computes accuracy without dropout/noize -- for evaluation purposes\n",
    "accuracy_fun = theano.function([input_X,target_y],accuracy_det)\n",
    "\n"
   ]
  },
  {
   "cell_type": "code",
   "execution_count": 7,
   "metadata": {
    "collapsed": false
   },
   "outputs": [
    {
     "name": "stdout",
     "output_type": "stream",
     "text": [
      "Epoch 1 of 30 took 2192.110s\n",
      "  training loss (in-iteration):\t\t1.807278\n",
      "  train accuracy:\t\t32.28 %\n",
      "  validation accuracy:\t\t49.67 %\n",
      "Epoch 2 of 30 took 2080.997s\n",
      "  training loss (in-iteration):\t\t1.338776\n",
      "  train accuracy:\t\t51.57 %\n",
      "  validation accuracy:\t\t60.75 %\n",
      "Epoch 3 of 30 took 2060.003s\n",
      "  training loss (in-iteration):\t\t1.126850\n",
      "  train accuracy:\t\t60.03 %\n",
      "  validation accuracy:\t\t67.42 %\n",
      "Epoch 4 of 30 took 2079.013s\n",
      "  training loss (in-iteration):\t\t0.984828\n",
      "  train accuracy:\t\t65.89 %\n",
      "  validation accuracy:\t\t70.92 %\n",
      "Epoch 5 of 30 took 2073.642s\n",
      "  training loss (in-iteration):\t\t0.888890\n",
      "  train accuracy:\t\t69.48 %\n",
      "  validation accuracy:\t\t72.96 %\n",
      "Epoch 6 of 30 took 2066.881s\n",
      "  training loss (in-iteration):\t\t0.815873\n",
      "  train accuracy:\t\t72.03 %\n",
      "  validation accuracy:\t\t74.11 %\n",
      "Epoch 7 of 30 took 2082.622s\n",
      "  training loss (in-iteration):\t\t0.749445\n",
      "  train accuracy:\t\t74.17 %\n",
      "  validation accuracy:\t\t74.29 %\n",
      "Epoch 8 of 30 took 2071.467s\n",
      "  training loss (in-iteration):\t\t0.705350\n",
      "  train accuracy:\t\t75.66 %\n",
      "  validation accuracy:\t\t76.34 %\n",
      "Epoch 9 of 30 took 2069.567s\n",
      "  training loss (in-iteration):\t\t0.664828\n",
      "  train accuracy:\t\t77.09 %\n",
      "  validation accuracy:\t\t76.04 %\n",
      "Epoch 10 of 30 took 2073.918s\n",
      "  training loss (in-iteration):\t\t0.622695\n",
      "  train accuracy:\t\t78.34 %\n",
      "  validation accuracy:\t\t77.20 %\n",
      "Epoch 11 of 30 took 2077.799s\n",
      "  training loss (in-iteration):\t\t0.599489\n",
      "  train accuracy:\t\t79.15 %\n",
      "  validation accuracy:\t\t77.27 %\n",
      "Epoch 12 of 30 took 2067.899s\n",
      "  training loss (in-iteration):\t\t0.562892\n",
      "  train accuracy:\t\t80.54 %\n",
      "  validation accuracy:\t\t77.79 %\n",
      "Epoch 13 of 30 took 2065.903s\n",
      "  training loss (in-iteration):\t\t0.542840\n",
      "  train accuracy:\t\t81.05 %\n",
      "  validation accuracy:\t\t77.75 %\n",
      "Epoch 14 of 30 took 2085.374s\n",
      "  training loss (in-iteration):\t\t0.522525\n",
      "  train accuracy:\t\t82.01 %\n",
      "  validation accuracy:\t\t77.14 %\n",
      "Epoch 15 of 30 took 2078.677s\n",
      "  training loss (in-iteration):\t\t0.499157\n",
      "  train accuracy:\t\t82.55 %\n",
      "  validation accuracy:\t\t78.12 %\n",
      "Epoch 16 of 30 took 2068.386s\n",
      "  training loss (in-iteration):\t\t0.474994\n",
      "  train accuracy:\t\t83.51 %\n",
      "  validation accuracy:\t\t76.72 %\n",
      "Epoch 17 of 30 took 2054.777s\n",
      "  training loss (in-iteration):\t\t0.460679\n",
      "  train accuracy:\t\t84.01 %\n",
      "  validation accuracy:\t\t79.16 %\n",
      "Epoch 18 of 30 took 2107.125s\n",
      "  training loss (in-iteration):\t\t0.441131\n",
      "  train accuracy:\t\t84.64 %\n",
      "  validation accuracy:\t\t78.54 %\n",
      "Epoch 19 of 30 took 2049.899s\n",
      "  training loss (in-iteration):\t\t0.432273\n",
      "  train accuracy:\t\t84.83 %\n",
      "  validation accuracy:\t\t78.61 %\n",
      "Epoch 20 of 30 took 2054.931s\n",
      "  training loss (in-iteration):\t\t0.409147\n",
      "  train accuracy:\t\t85.96 %\n",
      "  validation accuracy:\t\t79.00 %\n",
      "Epoch 21 of 30 took 2058.958s\n",
      "  training loss (in-iteration):\t\t0.397169\n",
      "  train accuracy:\t\t86.24 %\n",
      "  validation accuracy:\t\t79.80 %\n",
      "Epoch 22 of 30 took 2066.608s\n",
      "  training loss (in-iteration):\t\t0.392254\n",
      "  train accuracy:\t\t86.48 %\n",
      "  validation accuracy:\t\t78.33 %\n",
      "Epoch 23 of 30 took 2064.941s\n",
      "  training loss (in-iteration):\t\t0.374853\n",
      "  train accuracy:\t\t86.84 %\n",
      "  validation accuracy:\t\t79.77 %\n",
      "Epoch 24 of 30 took 2059.437s\n",
      "  training loss (in-iteration):\t\t0.362897\n",
      "  train accuracy:\t\t87.39 %\n",
      "  validation accuracy:\t\t79.43 %\n",
      "Epoch 25 of 30 took 2071.549s\n",
      "  training loss (in-iteration):\t\t0.365046\n",
      "  train accuracy:\t\t87.32 %\n",
      "  validation accuracy:\t\t79.46 %\n",
      "Epoch 26 of 30 took 2064.409s\n",
      "  training loss (in-iteration):\t\t0.339588\n",
      "  train accuracy:\t\t88.13 %\n",
      "  validation accuracy:\t\t78.65 %\n",
      "Epoch 27 of 30 took 2409.944s\n",
      "  training loss (in-iteration):\t\t0.331900\n",
      "  train accuracy:\t\t88.56 %\n",
      "  validation accuracy:\t\t79.68 %\n",
      "Epoch 28 of 30 took 4053.042s\n",
      "  training loss (in-iteration):\t\t0.334099\n",
      "  train accuracy:\t\t88.60 %\n",
      "  validation accuracy:\t\t79.20 %\n",
      "Epoch 29 of 30 took 2551.909s\n",
      "  training loss (in-iteration):\t\t0.323528\n",
      "  train accuracy:\t\t88.81 %\n",
      "  validation accuracy:\t\t79.76 %\n",
      "Epoch 30 of 30 took 2469.437s\n",
      "  training loss (in-iteration):\t\t0.311600\n",
      "  train accuracy:\t\t89.22 %\n",
      "  validation accuracy:\t\t79.47 %\n"
     ]
    }
   ],
   "source": [
    "#итерации обучения\n",
    "import time\n",
    "num_epochs = 30 #<how many times to iterate over the entire training set>\n",
    "\n",
    "batch_size = 128  #<how many samples are processed at a single function call>\n",
    "\n",
    "for epoch in range(num_epochs):\n",
    "    # In each epoch, we do a full pass over the training data:\n",
    "    train_err = 0\n",
    "    train_acc = 0\n",
    "    train_batches = 0\n",
    "    start_time = time.time()\n",
    "    for batch in iterate_minibatches(X_train, y_train,batch_size):\n",
    "        inputs, targets = batch\n",
    "        train_err_batch, train_acc_batch= train_fun(inputs, targets)\n",
    "        train_err += train_err_batch\n",
    "        train_acc += train_acc_batch\n",
    "        train_batches += 1\n",
    "\n",
    "    # And a full pass over the validation data:\n",
    "    val_acc = 0\n",
    "    val_batches = 0\n",
    "    for batch in iterate_minibatches(X_val, y_val, batch_size):\n",
    "        inputs, targets = batch\n",
    "        val_acc += accuracy_fun(inputs, targets)\n",
    "        val_batches += 1\n",
    "\n",
    "    \n",
    "    # Then we print the results for this epoch:\n",
    "    print(\"Epoch {} of {} took {:.3f}s\".format(\n",
    "        epoch + 1, num_epochs, time.time() - start_time))\n",
    "\n",
    "    print(\"  training loss (in-iteration):\\t\\t{:.6f}\".format(train_err / train_batches))\n",
    "    print(\"  train accuracy:\\t\\t{:.2f} %\".format(\n",
    "        train_acc / train_batches * 100))\n",
    "    print(\"  validation accuracy:\\t\\t{:.2f} %\".format(\n",
    "        val_acc / val_batches * 100))"
   ]
  },
  {
   "cell_type": "code",
   "execution_count": 8,
   "metadata": {
    "collapsed": false
   },
   "outputs": [
    {
     "name": "stdout",
     "output_type": "stream",
     "text": [
      "Final results:\n",
      "  test accuracy:\t\t79.80 %\n",
      "We need more magic!\n"
     ]
    }
   ],
   "source": [
    "test_acc = 0\n",
    "test_batches = 0\n",
    "for batch in iterate_minibatches(X_test, y_test, 500):\n",
    "    inputs, targets = batch\n",
    "    acc = accuracy_fun(inputs, targets)\n",
    "    test_acc += acc\n",
    "    test_batches += 1\n",
    "print(\"Final results:\")\n",
    "print(\"  test accuracy:\\t\\t{:.2f} %\".format(\n",
    "    test_acc / test_batches * 100))\n",
    "\n",
    "if test_acc / test_batches * 100 > 80:\n",
    "    print \"Achievement unlocked: 80lvl Warlock!\"\n",
    "else:\n",
    "    print \"We need more magic!\""
   ]
  },
  {
   "cell_type": "code",
   "execution_count": null,
   "metadata": {
    "collapsed": true
   },
   "outputs": [],
   "source": []
  },
  {
   "cell_type": "code",
   "execution_count": null,
   "metadata": {
    "collapsed": true
   },
   "outputs": [],
   "source": []
  }
 ],
 "metadata": {
  "kernelspec": {
   "display_name": "Python 2",
   "language": "python",
   "name": "python2"
  },
  "language_info": {
   "codemirror_mode": {
    "name": "ipython",
    "version": 2
   },
   "file_extension": ".py",
   "mimetype": "text/x-python",
   "name": "python",
   "nbconvert_exporter": "python",
   "pygments_lexer": "ipython2",
   "version": "2.7.10"
  }
 },
 "nbformat": 4,
 "nbformat_minor": 0
}

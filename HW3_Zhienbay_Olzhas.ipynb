{
 "cells": [
  {
   "cell_type": "markdown",
   "metadata": {},
   "source": [
    "# Deep learning for Natural Language Processing\n",
    "\n",
    "\n",
    " * Simple text representations, bag of words\n",
    " * Word embedding and... not just another word2vec this time\n",
    " * 1-dimensional convolutions for text\n",
    " * Aggregating several data sources \"the hard way\"\n",
    " * Solving ~somewhat~ real ML problem with ~almost~ end-to-end deep learning\n",
    " \n",
    "\n",
    "Special thanks to Irina Golzmann for help with technical part."
   ]
  },
  {
   "cell_type": "markdown",
   "metadata": {},
   "source": [
    "# NLTK\n",
    "\n",
    "You will require nltk v3.2 to solve this assignment\n",
    "\n",
    "__It is really important that the version is 3.2, otherwize russian tokenizer might not work__\n",
    "\n",
    "Install/update\n",
    "* `sudo pip install --upgrade nltk==3.2`\n",
    "* If you don't remember when was the last pip upgrade, `sudo pip install --upgrade pip`\n",
    "\n",
    "If for some reason you can't or won't switch to nltk v3.2, just make sure that russian words are tokenized properly with RegeExpTokenizer."
   ]
  },
  {
   "cell_type": "markdown",
   "metadata": {},
   "source": [
    "# For students with low-RAM machines\n",
    " * This assignment can be accomplished with even the low-tier hardware (<= 4Gb RAM) \n",
    " * If that is the case, turn flag \"low_RAM_mode\" below to True\n",
    " * If you have around 8GB memory, it is unlikely that you will feel constrained by memory.\n",
    " * In case you are using a PC from last millenia, consider setting very_low_RAM=True"
   ]
  },
  {
   "cell_type": "code",
   "execution_count": 2,
   "metadata": {
    "collapsed": true
   },
   "outputs": [],
   "source": [
    "low_RAM_mode = True\n",
    "very_low_RAM = False  #If you have <3GB RAM, set BOTH to true"
   ]
  },
  {
   "cell_type": "code",
   "execution_count": 1,
   "metadata": {
    "collapsed": false
   },
   "outputs": [
    {
     "name": "stdout",
     "output_type": "stream",
     "text": [
      "0.18.1\n"
     ]
    }
   ],
   "source": [
    "import sklearn\n",
    "print sklearn.__version__"
   ]
  },
  {
   "cell_type": "code",
   "execution_count": 3,
   "metadata": {
    "collapsed": false
   },
   "outputs": [
    {
     "name": "stderr",
     "output_type": "stream",
     "text": [
      "/root/miniconda/envs/rep_py2/lib/python2.7/site-packages/sklearn/cross_validation.py:44: DeprecationWarning: This module was deprecated in version 0.18 in favor of the model_selection module into which all the refactored classes and functions are moved. Also note that the interface of the new CV iterators are different from that of this module. This module will be removed in 0.20.\n",
      "  \"This module will be removed in 0.20.\", DeprecationWarning)\n"
     ]
    }
   ],
   "source": [
    "import pandas as pd\n",
    "import numpy as np\n",
    "import matplotlib.pyplot as plt\n",
    "from sklearn.cross_validation import train_test_split\n",
    "%matplotlib inline"
   ]
  },
  {
   "cell_type": "markdown",
   "metadata": {},
   "source": [
    "# Dataset\n",
    "\n",
    "Ex-kaggle-competition on prohibited content detection\n",
    "\n",
    "There goes the description - https://www.kaggle.com/c/avito-prohibited-content\n",
    "\n",
    "\n",
    "### Download\n",
    "High-RAM mode,\n",
    " * Download avito_train.tsv from competition data files\n",
    "Low-RAM-mode,\n",
    " * Download downsampled dataset from here\n",
    "     * archive https://yadi.sk/d/l0p4lameqw3W8\n",
    "     * raw https://yadi.sk/d/I1v7mZ6Sqw2WK (in case you feel masochistic)\n",
    " \n",
    "\n",
    "\n",
    "\n",
    "\n",
    "# What's inside\n",
    "Different kinds of features:\n",
    "* 2 text fields - title and description\n",
    "* Special features - price, number of e-mails, phones, etc\n",
    "* Category and subcategory - unsurprisingly, categorical features\n",
    "* Attributes - more factors\n",
    "\n",
    "Only 1 binary target whether or not such advertisement contains prohibited materials\n",
    "* criminal, misleading, human reproduction-related, etc\n",
    "* diving into the data may result in prolonged sleep disorders"
   ]
  },
  {
   "cell_type": "code",
   "execution_count": 4,
   "metadata": {
    "collapsed": false
   },
   "outputs": [],
   "source": [
    "if not low_RAM_mode:\n",
    "    # a lot of ram\n",
    "    df = pd.read_csv(\"avito_train.tsv\",sep='\\t')\n",
    "else:\n",
    "    #aroung 4GB ram\n",
    "    df = pd.read_csv(\"avito_train_1kk.tsv\",sep='\\t')"
   ]
  },
  {
   "cell_type": "code",
   "execution_count": 5,
   "metadata": {
    "collapsed": false
   },
   "outputs": [
    {
     "name": "stdout",
     "output_type": "stream",
     "text": [
      "(1204949, 13) 0.228222107326\n"
     ]
    },
    {
     "data": {
      "text/html": [
       "<div>\n",
       "<table border=\"1\" class=\"dataframe\">\n",
       "  <thead>\n",
       "    <tr style=\"text-align: right;\">\n",
       "      <th></th>\n",
       "      <th>itemid</th>\n",
       "      <th>category</th>\n",
       "      <th>subcategory</th>\n",
       "      <th>title</th>\n",
       "      <th>description</th>\n",
       "      <th>attrs</th>\n",
       "      <th>price</th>\n",
       "      <th>is_proved</th>\n",
       "      <th>is_blocked</th>\n",
       "      <th>phones_cnt</th>\n",
       "      <th>emails_cnt</th>\n",
       "      <th>urls_cnt</th>\n",
       "      <th>close_hours</th>\n",
       "    </tr>\n",
       "  </thead>\n",
       "  <tbody>\n",
       "    <tr>\n",
       "      <th>0</th>\n",
       "      <td>10000010</td>\n",
       "      <td>Транспорт</td>\n",
       "      <td>Автомобили с пробегом</td>\n",
       "      <td>Toyota Sera, 1991</td>\n",
       "      <td>Новая оригинальная линзованая оптика на ксенон...</td>\n",
       "      <td>{\"Год выпуска\":\"1991\", \"Тип кузова\":\"Купе\", \"П...</td>\n",
       "      <td>150000</td>\n",
       "      <td>NaN</td>\n",
       "      <td>0</td>\n",
       "      <td>0</td>\n",
       "      <td>0</td>\n",
       "      <td>0</td>\n",
       "      <td>0.03</td>\n",
       "    </tr>\n",
       "    <tr>\n",
       "      <th>1</th>\n",
       "      <td>10000094</td>\n",
       "      <td>Личные вещи</td>\n",
       "      <td>Одежда, обувь, аксессуары</td>\n",
       "      <td>Костюм Steilmann</td>\n",
       "      <td>Юбка и топ из панбархата. Под топ  трикотажная...</td>\n",
       "      <td>{\"Вид одежды\":\"Женская одежда\", \"Предмет одежд...</td>\n",
       "      <td>1500</td>\n",
       "      <td>NaN</td>\n",
       "      <td>0</td>\n",
       "      <td>0</td>\n",
       "      <td>0</td>\n",
       "      <td>0</td>\n",
       "      <td>0.41</td>\n",
       "    </tr>\n",
       "    <tr>\n",
       "      <th>2</th>\n",
       "      <td>10000299</td>\n",
       "      <td>Личные вещи</td>\n",
       "      <td>Детская одежда и обувь</td>\n",
       "      <td>Костюм Didriksons Boardman, размер 100, краги,...</td>\n",
       "      <td>Костюм Didriksons Boardman, в отличном состоян...</td>\n",
       "      <td>{\"Вид одежды\":\"Для мальчиков\", \"Предмет одежды...</td>\n",
       "      <td>3000</td>\n",
       "      <td>NaN</td>\n",
       "      <td>0</td>\n",
       "      <td>0</td>\n",
       "      <td>0</td>\n",
       "      <td>0</td>\n",
       "      <td>5.49</td>\n",
       "    </tr>\n",
       "    <tr>\n",
       "      <th>3</th>\n",
       "      <td>10000309</td>\n",
       "      <td>Недвижимость</td>\n",
       "      <td>Квартиры</td>\n",
       "      <td>1-к квартира, 44 м², 9/20 эт.</td>\n",
       "      <td>В кирпичном пан.-м доме, продается одноком.-ая...</td>\n",
       "      <td>{\"Тип объявления\":\"Продам\", \"Количество комнат...</td>\n",
       "      <td>2642020</td>\n",
       "      <td>NaN</td>\n",
       "      <td>0</td>\n",
       "      <td>1</td>\n",
       "      <td>0</td>\n",
       "      <td>0</td>\n",
       "      <td>22.47</td>\n",
       "    </tr>\n",
       "    <tr>\n",
       "      <th>4</th>\n",
       "      <td>10000317</td>\n",
       "      <td>Услуги</td>\n",
       "      <td>Предложения услуг</td>\n",
       "      <td>Поездки на таможню, печать в паспорте</td>\n",
       "      <td>Поездки на таможню гражданам СНГ для пересечен...</td>\n",
       "      <td>{\"Вид услуги\":\"Деловые услуги\", \"Тип услуги\":\"...</td>\n",
       "      <td>1500</td>\n",
       "      <td>0</td>\n",
       "      <td>1</td>\n",
       "      <td>0</td>\n",
       "      <td>0</td>\n",
       "      <td>0</td>\n",
       "      <td>1.43</td>\n",
       "    </tr>\n",
       "  </tbody>\n",
       "</table>\n",
       "</div>"
      ],
      "text/plain": [
       "     itemid      category                subcategory  \\\n",
       "0  10000010     Транспорт      Автомобили с пробегом   \n",
       "1  10000094   Личные вещи  Одежда, обувь, аксессуары   \n",
       "2  10000299   Личные вещи     Детская одежда и обувь   \n",
       "3  10000309  Недвижимость                   Квартиры   \n",
       "4  10000317        Услуги          Предложения услуг   \n",
       "\n",
       "                                               title  \\\n",
       "0                                  Toyota Sera, 1991   \n",
       "1                                   Костюм Steilmann   \n",
       "2  Костюм Didriksons Boardman, размер 100, краги,...   \n",
       "3                      1-к квартира, 44 м², 9/20 эт.   \n",
       "4              Поездки на таможню, печать в паспорте   \n",
       "\n",
       "                                         description  \\\n",
       "0  Новая оригинальная линзованая оптика на ксенон...   \n",
       "1  Юбка и топ из панбархата. Под топ  трикотажная...   \n",
       "2  Костюм Didriksons Boardman, в отличном состоян...   \n",
       "3  В кирпичном пан.-м доме, продается одноком.-ая...   \n",
       "4  Поездки на таможню гражданам СНГ для пересечен...   \n",
       "\n",
       "                                               attrs    price  is_proved  \\\n",
       "0  {\"Год выпуска\":\"1991\", \"Тип кузова\":\"Купе\", \"П...   150000        NaN   \n",
       "1  {\"Вид одежды\":\"Женская одежда\", \"Предмет одежд...     1500        NaN   \n",
       "2  {\"Вид одежды\":\"Для мальчиков\", \"Предмет одежды...     3000        NaN   \n",
       "3  {\"Тип объявления\":\"Продам\", \"Количество комнат...  2642020        NaN   \n",
       "4  {\"Вид услуги\":\"Деловые услуги\", \"Тип услуги\":\"...     1500          0   \n",
       "\n",
       "   is_blocked  phones_cnt  emails_cnt  urls_cnt  close_hours  \n",
       "0           0           0           0         0         0.03  \n",
       "1           0           0           0         0         0.41  \n",
       "2           0           0           0         0         5.49  \n",
       "3           0           1           0         0        22.47  \n",
       "4           1           0           0         0         1.43  "
      ]
     },
     "execution_count": 5,
     "metadata": {},
     "output_type": "execute_result"
    }
   ],
   "source": [
    "print df.shape, df.is_blocked.mean()\n",
    "df[:5]"
   ]
  },
  {
   "cell_type": "markdown",
   "metadata": {},
   "source": [
    "![caption](https://kaggle2.blob.core.windows.net/competitions/kaggle/3929/media/Ad.png)"
   ]
  },
  {
   "cell_type": "code",
   "execution_count": 6,
   "metadata": {
    "collapsed": false
   },
   "outputs": [
    {
     "name": "stdout",
     "output_type": "stream",
     "text": [
      "Blocked ratio 0.228222107326\n",
      "Count: 1204949\n"
     ]
    }
   ],
   "source": [
    "print \"Blocked ratio\",df.is_blocked.mean()\n",
    "print \"Count:\",len(df)"
   ]
  },
  {
   "cell_type": "markdown",
   "metadata": {},
   "source": [
    "# Balance-out the classes\n",
    "* Vast majority of data samples are non-prohibited\n",
    " * 250k banned out of 4kk\n",
    " * Let's just downsample random 250k legal samples to make further steps less computationally demanding\n",
    " * If you aim for high Kaggle score, consider a smarter approach to that.\n"
   ]
  },
  {
   "cell_type": "code",
   "execution_count": 7,
   "metadata": {
    "collapsed": false
   },
   "outputs": [
    {
     "name": "stdout",
     "output_type": "stream",
     "text": [
      "Blocked ratio: 0.504583519879\n",
      "Count: 544996\n"
     ]
    }
   ],
   "source": [
    "#downsample\n",
    "import random\n",
    "random.seed(77)\n",
    "ind1 = random.sample(df[df.is_blocked==0].itemid, 270000)\n",
    "ind2 = df[df.is_blocked==1].itemid\n",
    "ind1.extend(ind2)\n",
    "df = df[df.itemid.isin(ind1)]\n",
    "\n",
    "print \"Blocked ratio:\",df.is_blocked.mean()\n",
    "print \"Count:\",len(df)"
   ]
  },
  {
   "cell_type": "code",
   "execution_count": 8,
   "metadata": {
    "collapsed": false
   },
   "outputs": [
    {
     "name": "stdout",
     "output_type": "stream",
     "text": [
      "All tests passed\n"
     ]
    }
   ],
   "source": [
    "assert df.is_blocked.mean() < 0.51\n",
    "assert df.is_blocked.mean() > 0.49\n",
    "assert len(df) <= 560000\n",
    "\n",
    "print \"All tests passed\""
   ]
  },
  {
   "cell_type": "code",
   "execution_count": 9,
   "metadata": {
    "collapsed": false
   },
   "outputs": [],
   "source": [
    "#In case your RAM-o-meter is in the red\n",
    "if very_low_RAM:\n",
    "    df = df[::2]"
   ]
  },
  {
   "cell_type": "code",
   "execution_count": 10,
   "metadata": {
    "collapsed": true
   },
   "outputs": [],
   "source": [
    "df.to_csv('train.csv', sep='\\t')"
   ]
  },
  {
   "cell_type": "markdown",
   "metadata": {
    "collapsed": false
   },
   "source": [
    "# Tokenizing\n",
    "\n",
    "First, we create a dictionary of all existing words.\n",
    "Assign each word a number - it's Id"
   ]
  },
  {
   "cell_type": "code",
   "execution_count": 11,
   "metadata": {
    "collapsed": false
   },
   "outputs": [],
   "source": [
    "from nltk.tokenize import RegexpTokenizer\n",
    "from collections import Counter,defaultdict\n",
    "tokenizer = RegexpTokenizer(r\"\\w+\")\n",
    "\n",
    "#Dictionary of tokens\n",
    "token_counts = Counter()\n",
    "\n",
    "#All texts\n",
    "all_texts = np.hstack([df.description.values,df.title.values])\n",
    "\n",
    "#Compute token frequencies\n",
    "for s in all_texts:\n",
    "    if type(s) is not str:\n",
    "        continue\n",
    "    s = s.decode('utf8').lower()\n",
    "    tokens = tokenizer.tokenize(s)\n",
    "    for token in tokens:\n",
    "        token_counts[token] +=1"
   ]
  },
  {
   "cell_type": "markdown",
   "metadata": {},
   "source": [
    "### Remove rare tokens\n",
    "\n",
    "We are unlikely to make use of words that are only seen a few times throughout the corpora.\n",
    "\n",
    "Again, if you want to beat Kaggle competition metrics, consider doing something better."
   ]
  },
  {
   "cell_type": "code",
   "execution_count": 12,
   "metadata": {
    "collapsed": false
   },
   "outputs": [
    {
     "data": {
      "image/png": "[encoded data removed]",
      "text/plain": [
       "<matplotlib.figure.Figure at 0x7f90413217d0>"
      ]
     },
     "metadata": {},
     "output_type": "display_data"
    }
   ],
   "source": [
    "#Word frequency distribution, just for kicks\n",
    "_=plt.hist(token_counts.values(),range=[0,50],bins=50)"
   ]
  },
  {
   "cell_type": "code",
   "execution_count": 13,
   "metadata": {
    "collapsed": false
   },
   "outputs": [],
   "source": [
    "#Select only the tokens that had at least 10 occurences in the corpora.\n",
    "#Use token_counts.\n",
    "min_count = 10\n",
    "tokens = []\n",
    "for token in token_counts.keys():\n",
    "    if token_counts.get(token) >= min_count:\n",
    "        tokens.append(token)"
   ]
  },
  {
   "cell_type": "code",
   "execution_count": 14,
   "metadata": {
    "collapsed": true
   },
   "outputs": [],
   "source": [
    "token_to_id = {t:i+1 for i,t in enumerate(tokens)}\n",
    "null_token = \"NULL\"\n",
    "token_to_id[null_token] = 0"
   ]
  },
  {
   "cell_type": "code",
   "execution_count": 15,
   "metadata": {
    "collapsed": false
   },
   "outputs": [
    {
     "name": "stdout",
     "output_type": "stream",
     "text": [
      "# Tokens: 87541\n"
     ]
    }
   ],
   "source": [
    "print \"# Tokens:\",len(token_to_id)\n",
    "if len(token_to_id) < 30000:\n",
    "    print \"Alarm! It seems like there are too few tokens. Make sure you updated NLTK and applied correct thresholds -- unless you now what you're doing, ofc\"\n",
    "if len(token_to_id) > 1000000:\n",
    "    print \"Alarm! Too many tokens. You might have messed up when pruning rare ones -- unless you know what you're doin' ofc\""
   ]
  },
  {
   "cell_type": "markdown",
   "metadata": {},
   "source": [
    "### Replace words with IDs\n",
    "Set a maximum length for titles and descriptions.\n",
    " * If string is longer that that limit - crop it, if less - pad with zeros.\n",
    " * Thus we obtain a matrix of size [n_samples]x[max_length]\n",
    " * Element at i,j - is an identifier of word j within sample i"
   ]
  },
  {
   "cell_type": "code",
   "execution_count": 16,
   "metadata": {
    "collapsed": true
   },
   "outputs": [],
   "source": [
    "def vectorize(strings, token_to_id, max_len=150):\n",
    "    token_matrix = []\n",
    "    for s in strings:\n",
    "        if type(s) is not str:\n",
    "            token_matrix.append([0]*max_len)\n",
    "            continue\n",
    "        s = s.decode('utf8').lower()\n",
    "        tokens = tokenizer.tokenize(s)\n",
    "        token_ids = map(lambda token: token_to_id.get(token,0), tokens)[:max_len]\n",
    "        token_ids += [0]*(max_len - len(token_ids))\n",
    "        token_matrix.append(token_ids)\n",
    "\n",
    "    return np.array(token_matrix)"
   ]
  },
  {
   "cell_type": "code",
   "execution_count": 17,
   "metadata": {
    "collapsed": false
   },
   "outputs": [],
   "source": [
    "desc_tokens = vectorize(df.description.values,token_to_id,max_len = 150)\n",
    "title_tokens = vectorize(df.title.values,token_to_id,max_len = 15)"
   ]
  },
  {
   "cell_type": "markdown",
   "metadata": {
    "collapsed": false
   },
   "source": [
    "### Data format examples\n"
   ]
  },
  {
   "cell_type": "code",
   "execution_count": 18,
   "metadata": {
    "collapsed": false
   },
   "outputs": [
    {
     "name": "stdout",
     "output_type": "stream",
     "text": [
      "Размер матрицы: (544996, 15)\n",
      "Костюм Didriksons Boardman, размер 100, краги, шап -> [24797 67335     0 35956 72986 25014     0     0     0     0] ...\n",
      "Поездки на таможню, печать в паспорте -> [17173 14849 55286 81829 79924 17484     0     0     0     0] ...\n",
      "Рефлекторно-урогинекологический массаж -> [ 8473     0 30560     0     0     0     0     0     0     0] ...\n"
     ]
    }
   ],
   "source": [
    "print \"Размер матрицы:\",title_tokens.shape\n",
    "for title, tokens in zip(df.title.values[:3],title_tokens[:3]):\n",
    "    print title,'->', tokens[:10],'...'"
   ]
  },
  {
   "cell_type": "markdown",
   "metadata": {},
   "source": [
    "__ As you can see, our preprocessing is somewhat crude. Let us see if that is enough for our network __"
   ]
  },
  {
   "cell_type": "markdown",
   "metadata": {},
   "source": [
    "# Non-sequences\n",
    "\n",
    "\n",
    "Some data features are not text samples. E.g. price, # urls, category, etc\n",
    "\n",
    "They require a separate preprocessing."
   ]
  },
  {
   "cell_type": "code",
   "execution_count": 19,
   "metadata": {
    "collapsed": true
   },
   "outputs": [],
   "source": [
    "#All numeric features\n",
    "df_numerical_features = df[[\"phones_cnt\",\"emails_cnt\",\"urls_cnt\",\"price\"]]\n"
   ]
  },
  {
   "cell_type": "code",
   "execution_count": 20,
   "metadata": {
    "collapsed": false
   },
   "outputs": [],
   "source": [
    "#One-hot-encoded category and subcategory\n",
    "\n",
    "from sklearn.feature_extraction import DictVectorizer\n",
    "\n",
    "categories = []\n",
    "data_cat_subcat = df[[\"category\",\"subcategory\"]].values\n",
    "for cat_str, subcat_str in data_cat_subcat: \n",
    "    cat_dict = {\"category\":cat_str,\"subcategory\":subcat_str}\n",
    "    categories.append(cat_dict)\n",
    "\n",
    "    \n",
    "    \n",
    "vectorizer = DictVectorizer(sparse=False)\n",
    "cat_one_hot = vectorizer.fit_transform(categories)\n",
    "cat_one_hot = pd.DataFrame(cat_one_hot,columns=vectorizer.feature_names_)\n",
    "\n",
    "\n"
   ]
  },
  {
   "cell_type": "code",
   "execution_count": 21,
   "metadata": {
    "collapsed": false
   },
   "outputs": [],
   "source": [
    "df_non_text = pd.merge(\n",
    "    df_numerical_features,cat_one_hot,on = np.arange(len(cat_one_hot))\n",
    ")\n",
    "del df_non_text[\"key_0\"]"
   ]
  },
  {
   "cell_type": "markdown",
   "metadata": {},
   "source": [
    "# Split data into training and test"
   ]
  },
  {
   "cell_type": "code",
   "execution_count": 22,
   "metadata": {
    "collapsed": false
   },
   "outputs": [],
   "source": [
    "#Target variable - whether or not sample contains prohibited material\n",
    "target = df.is_blocked.values.astype('int32')\n",
    "#Preprocessed titles\n",
    "title_tokens = title_tokens.astype('int32')\n",
    "#Preprocessed tokens\n",
    "desc_tokens = desc_tokens.astype('int32')\n",
    "\n",
    "#Non-sequences\n",
    "df_non_text = df_non_text.astype('float32')"
   ]
  },
  {
   "cell_type": "code",
   "execution_count": 23,
   "metadata": {
    "collapsed": false
   },
   "outputs": [],
   "source": [
    "#Split into training and test set.\n",
    "\n",
    "\n",
    "#Difficulty selector:\n",
    "#Easy: split randomly\n",
    "#Medium: select test set items that have item_ids strictly above that of training set\n",
    "#Hard: do whatever you want, but score yourself using kaggle private leaderboard\n",
    "\n",
    "data_tuple = train_test_split(title_tokens,desc_tokens,df_non_text.values,target)\n",
    "\n",
    "title_tr,title_ts,desc_tr,desc_ts,nontext_tr,nontext_ts,target_tr,target_ts = data_tuple"
   ]
  },
  {
   "cell_type": "markdown",
   "metadata": {},
   "source": [
    "## Save preprocessed data [optional]\n",
    "\n",
    "* The next tab can be used to stash all the essential data matrices and get rid of the rest of the data.\n",
    " * Highly recommended if you have less than 1.5GB RAM left\n",
    "* To do that, you need to first run it with save_prepared_data=True, then restart the notebook and only run this tab with read_prepared_data=True."
   ]
  },
  {
   "cell_type": "code",
   "execution_count": 1,
   "metadata": {
    "collapsed": false
   },
   "outputs": [
    {
     "name": "stdout",
     "output_type": "stream",
     "text": [
      "Reading saved data...\n",
      "done\n"
     ]
    }
   ],
   "source": [
    "save_prepared_data = False#True #save\n",
    "read_prepared_data = True #False #load\n",
    "\n",
    "#but not both at once\n",
    "assert not (save_prepared_data and read_prepared_data)\n",
    "\n",
    "if save_prepared_data:\n",
    "    print \"Saving preprocessed data (may take up to 3 minutes)\"\n",
    "    import pickle\n",
    "    with open(\"preprocessed_data.pcl\",'w') as fout:\n",
    "        pickle.dump(data_tuple,fout)\n",
    "    with open(\"token_to_id.pcl\",'w') as fout:\n",
    "        pickle.dump(token_to_id,fout)\n",
    "    print \"done\"\n",
    "    \n",
    "elif read_prepared_data:\n",
    "    print \"Reading saved data...\"\n",
    "    import pickle\n",
    "    with open(\"preprocessed_data.pcl\",'r') as fin:\n",
    "        data_tuple = pickle.load(fin)\n",
    "    title_tr,title_ts,desc_tr,desc_ts,nontext_tr,nontext_ts,target_tr,target_ts = data_tuple\n",
    "    with open(\"token_to_id.pcl\",'r') as fin:\n",
    "        token_to_id = pickle.load(fin)\n",
    "    #Re-importing libraries to allow staring noteboook from here\n",
    "    import pandas as pd\n",
    "    import numpy as np\n",
    "    import matplotlib.pyplot as plt\n",
    "    %matplotlib inline\n",
    "    print \"done\"     "
   ]
  },
  {
   "cell_type": "markdown",
   "metadata": {},
   "source": [
    "# Train the monster\n",
    "\n",
    "Since we have several data sources, our neural network may differ from what you used to work with.\n",
    "\n",
    "* Separate input for titles\n",
    " * cnn+global max or RNN\n",
    "* Separate input for description\n",
    " * cnn+global max or RNN\n",
    "* Separate input for categorical features\n",
    " * обычные полносвязные слои или какие-нибудь трюки\n",
    " \n",
    "These three inputs must be blended somehow - concatenated or added.\n",
    "\n",
    "* Output: a simple binary classification\n",
    " * 1 sigmoidal with binary_crossentropy\n",
    " * 2 softmax with categorical_crossentropy - essentially the same as previous one\n",
    " * 1 neuron without nonlinearity (lambda x: x) +  hinge loss\n",
    " "
   ]
  },
  {
   "cell_type": "code",
   "execution_count": 2,
   "metadata": {
    "collapsed": false
   },
   "outputs": [],
   "source": [
    "#libraries\n",
    "import lasagne\n",
    "from theano import tensor as T\n",
    "import theano"
   ]
  },
  {
   "cell_type": "code",
   "execution_count": 3,
   "metadata": {
    "collapsed": true
   },
   "outputs": [],
   "source": [
    "#3 inputs and a refere output\n",
    "title_token_ids = T.matrix(\"title_token_ids\",dtype='int32')\n",
    "desc_token_ids = T.matrix(\"desc_token_ids\",dtype='int32')\n",
    "categories = T.matrix(\"categories\",dtype='float32')\n",
    "target_y = T.ivector(\"is_blocked\")"
   ]
  },
  {
   "cell_type": "markdown",
   "metadata": {},
   "source": [
    "# NN architecture"
   ]
  },
  {
   "cell_type": "code",
   "execution_count": 4,
   "metadata": {
    "collapsed": false
   },
   "outputs": [],
   "source": [
    "title_inp = lasagne.layers.InputLayer((None,title_tr.shape[1]),input_var=title_token_ids)\n",
    "descr_inp = lasagne.layers.InputLayer((None,desc_tr.shape[1]),input_var=desc_token_ids)\n",
    "cat_inp = lasagne.layers.InputLayer((None,nontext_tr.shape[1]), input_var=categories)"
   ]
  },
  {
   "cell_type": "code",
   "execution_count": 5,
   "metadata": {
    "collapsed": false
   },
   "outputs": [],
   "source": [
    "# Descriptions\n",
    "\n",
    "#word-wise embedding. We recommend to start from some 64 and improving after you are certain it works.\n",
    "\n",
    "descr_nn = lasagne.layers.EmbeddingLayer(descr_inp,input_size=len(token_to_id)+1,output_size=64)\n",
    "\n",
    "\n",
    "#reshape from [batch, time, unit] to [batch,unit,time] to allow 1d convolution over time\n",
    "descr_nn = lasagne.layers.DimshuffleLayer(descr_nn, [0,2,1])\n",
    "\n",
    "descr_nn = lasagne.layers.Conv1DLayer(descr_nn,num_filters=16,filter_size=3)\n",
    "\n",
    "#pool over time\n",
    "descr_nn = lasagne.layers.GlobalPoolLayer(descr_nn,T.max)\n",
    "\n",
    "#Possible improvements here are adding several parallel convs with different filter sizes or stacking them the usual way\n",
    "#1dconv -> 1d max pool ->1dconv and finally global pool\n",
    "\n",
    "\n",
    "# Titles using the same as previous architecture\n",
    "title_nn = lasagne.layers.EmbeddingLayer(title_inp,input_size=len(token_to_id)+1,output_size=8)\n",
    "title_nn = lasagne.layers.DimshuffleLayer(title_nn, [0,2,1])\n",
    "title_nn = lasagne.layers.Conv1DLayer(title_nn,num_filters=4,filter_size=2)\n",
    "title_nn = lasagne.layers.GlobalPoolLayer(title_nn,T.max)\n",
    "\n",
    "# Non-sequences\n",
    "cat_nn = lasagne.layers.DenseLayer(cat_inp, num_units=32,nonlinearity=lasagne.nonlinearities.rectify)\n",
    "cat_nn = lasagne.layers.DropoutLayer(cat_nn, p=0.5)"
   ]
  },
  {
   "cell_type": "code",
   "execution_count": 6,
   "metadata": {
    "collapsed": false
   },
   "outputs": [],
   "source": [
    "nn = lasagne.layers.concat([descr_nn, title_nn, cat_nn])                                \n",
    "\n",
    "nn = lasagne.layers.DenseLayer(nn,512)\n",
    "nn = lasagne.layers.DropoutLayer(nn,p=0.1)\n",
    "nn = lasagne.layers.DenseLayer(nn,1,nonlinearity=lasagne.nonlinearities.linear)"
   ]
  },
  {
   "cell_type": "markdown",
   "metadata": {},
   "source": [
    "# Loss function\n",
    "\n",
    "* The standard way:\n",
    " * prediction\n",
    " * loss\n",
    " * updates\n",
    " * training and evaluation functions\n",
    " \n",
    " \n",
    "* Hinge loss\n",
    " * $ L_i = \\max(0, \\delta - t_i p_i) $\n",
    " * delta is a tunable parameter: how far should a neuron be in the positive margin area for us to stop bothering about it\n",
    " * Function description may mention some +-1  limitations - this is not neccessary, at least as long as hinge loss has a __default__ flag `binary = True`"
   ]
  },
  {
   "cell_type": "code",
   "execution_count": 7,
   "metadata": {
    "collapsed": true
   },
   "outputs": [],
   "source": [
    "#All trainable params\n",
    "weights = lasagne.layers.get_all_params(nn,trainable=True)"
   ]
  },
  {
   "cell_type": "code",
   "execution_count": 8,
   "metadata": {
    "collapsed": false
   },
   "outputs": [],
   "source": [
    "#Simple NN prediction\n",
    "prediction = lasagne.layers.get_output(nn)[:,0]\n",
    "\n",
    "#Hinge loss\n",
    "loss = lasagne.objectives.binary_hinge_loss(prediction,target_y,delta = 1.0).mean()"
   ]
  },
  {
   "cell_type": "code",
   "execution_count": 9,
   "metadata": {
    "collapsed": false
   },
   "outputs": [],
   "source": [
    "#Weight optimization step - adama\n",
    "updates = lasagne.updates.adam(loss,weights,learning_rate=0.01)"
   ]
  },
  {
   "cell_type": "markdown",
   "metadata": {},
   "source": [
    "### Determinitic prediction \n",
    " * In case we use stochastic elements, e.g. dropout or noize\n",
    " * Compile a separate set of functions with deterministic prediction (deterministic = True)\n",
    " * Unless you think there's no neet for dropout there ofc. Btw is there?"
   ]
  },
  {
   "cell_type": "code",
   "execution_count": 10,
   "metadata": {
    "collapsed": false
   },
   "outputs": [],
   "source": [
    "#deterministic version\n",
    "det_prediction = lasagne.layers.get_output(nn,deterministic=True)[:,0]\n",
    "\n",
    "#equivalent loss function: taking hinge loss \n",
    "det_loss = lasagne.objectives.binary_hinge_loss(det_prediction,target_y,delta = 1.0).mean()"
   ]
  },
  {
   "cell_type": "markdown",
   "metadata": {},
   "source": [
    "### Coffee-lation"
   ]
  },
  {
   "cell_type": "code",
   "execution_count": 11,
   "metadata": {
    "collapsed": false
   },
   "outputs": [],
   "source": [
    "train_fun = theano.function([desc_token_ids,title_token_ids,categories,target_y],[loss,prediction],updates = updates)\n",
    "eval_fun = theano.function([desc_token_ids,title_token_ids,categories,target_y],[det_loss,det_prediction])"
   ]
  },
  {
   "cell_type": "markdown",
   "metadata": {},
   "source": [
    "# Training loop\n",
    "* The regular way with loops over minibatches\n",
    "* Since the dataset is huge, we define epoch as some fixed amount of samples isntead of all dataset"
   ]
  },
  {
   "cell_type": "code",
   "execution_count": 12,
   "metadata": {
    "collapsed": false
   },
   "outputs": [],
   "source": [
    "#average precision at K\n",
    "from oracle import APatK, score"
   ]
  },
  {
   "cell_type": "code",
   "execution_count": 13,
   "metadata": {
    "collapsed": false
   },
   "outputs": [],
   "source": [
    "# Out good old minibatch iterator now supports arbitrary amount of arrays (X,y,z)\n",
    "def iterate_minibatches(*arrays,**kwargs):\n",
    "    \n",
    "    batchsize=kwargs.get(\"batchsize\",100)\n",
    "    shuffle = kwargs.get(\"shuffle\",True)\n",
    "    \n",
    "    if shuffle:\n",
    "        indices = np.arange(len(arrays[0]))\n",
    "        np.random.shuffle(indices)\n",
    "    for start_idx in range(0, len(arrays[0]) - batchsize + 1, batchsize):\n",
    "        if shuffle:\n",
    "            excerpt = indices[start_idx:start_idx + batchsize]\n",
    "        else:\n",
    "            excerpt = slice(start_idx, start_idx + batchsize)\n",
    "        yield [arr[excerpt] for arr in arrays]"
   ]
  },
  {
   "cell_type": "markdown",
   "metadata": {},
   "source": [
    "### Tweaking guide\n",
    "\n",
    "* batch_size - how many samples are processed per function call\n",
    "  * optimization gets slower, but more stable, as you increase it.\n",
    "  * May consider increasing it halfway through training\n",
    "* minibatches_per_epoch - max amount of minibatches per epoch\n",
    "  * Does not affect training. Lesser value means more frequent and less stable printing\n",
    "  * Setting it to less than 10 is only meaningfull if you want to make sure your NN does not break down after one epoch\n",
    "* n_epochs - total amount of epochs to train for\n",
    "  * `n_epochs = 10**10` and manual interrupting is still an option\n",
    "\n",
    "\n",
    "Tips:\n",
    "\n",
    "* With small minibatches_per_epoch, network quality may jump around 0.5 for several epochs\n",
    "\n",
    "* AUC is the most stable of all three metrics\n",
    "\n",
    "* Average Precision at top 2.5% (APatK) - is the least stable. If batch_size*minibatches_per_epoch < 10k, it behaves as a uniform random variable.\n",
    "\n",
    "* Plotting metrics over training time may be a good way to analyze which architectures work better.\n",
    "\n",
    "* Once you are sure your network aint gonna crash, it's worth letting it train for a few hours of an average laptop's time to see it's true potential"
   ]
  },
  {
   "cell_type": "code",
   "execution_count": 14,
   "metadata": {
    "collapsed": false,
    "scrolled": true
   },
   "outputs": [
    {
     "name": "stdout",
     "output_type": "stream",
     "text": [
      "Train:\n",
      "\tloss: 5346.10863244\n",
      "\tacc: 0.565940594059\n",
      "\tauc: 0.601868306833\n",
      "\tap@k: 0.0881309279876\n",
      "Val:\n",
      "\tloss: 0.973434106695\n",
      "\tacc: 0.51900990099\n",
      "\tauc: 0.781794364587\n",
      "\tap@k: 0.965055188005\n",
      "Train:\n",
      "\tloss: 0.495456390751\n",
      "\tacc: 0.790099009901\n",
      "\tauc: 0.877072468204\n",
      "\tap@k: 0.997711907766\n",
      "Val:\n",
      "\tloss: 0.284769480676\n",
      "\tacc: 0.882178217822\n",
      "\tauc: 0.955836564839\n",
      "\tap@k: 0.99449956089\n",
      "Train:\n",
      "\tloss: 0.273997906997\n",
      "\tacc: 0.891782178218\n",
      "\tauc: 0.956938095691\n",
      "\tap@k: 0.998546545155\n",
      "Val:\n",
      "\tloss: 0.225235873353\n",
      "\tacc: 0.910297029703\n",
      "\tauc: 0.969970847116\n",
      "\tap@k: 0.975839604204\n",
      "Train:\n",
      "\tloss: 11.1915293888\n",
      "\tacc: 0.91702970297\n",
      "\tauc: 0.969396243108\n",
      "\tap@k: 0.734855201805\n",
      "Val:\n",
      "\tloss: 0.193867307315\n",
      "\tacc: 0.924356435644\n",
      "\tauc: 0.97714691487\n",
      "\tap@k: 0.975405024861\n",
      "Train:\n",
      "\tloss: 0.193995533185\n",
      "\tacc: 0.92396039604\n",
      "\tauc: 0.976331576305\n",
      "\tap@k: 1.0\n",
      "Val:\n",
      "\tloss: 0.174051309228\n",
      "\tacc: 0.930792079208\n",
      "\tauc: 0.981310713346\n",
      "\tap@k: 1.0\n",
      "Train:\n",
      "\tloss: 0.179654825492\n",
      "\tacc: 0.930495049505\n",
      "\tauc: 0.979044810708\n",
      "\tap@k: 0.995967385196\n",
      "Val:\n",
      "\tloss: 0.168050673978\n",
      "\tacc: 0.934455445545\n",
      "\tauc: 0.98129953112\n",
      "\tap@k: 0.999502165126\n",
      "Train:\n",
      "\tloss: 0.158157475077\n",
      "\tacc: 0.939702970297\n",
      "\tauc: 0.982811581342\n",
      "\tap@k: 0.998546545155\n",
      "Val:\n",
      "\tloss: 0.16535505007\n",
      "\tacc: 0.93603960396\n",
      "\tauc: 0.981592009599\n",
      "\tap@k: 1.0\n",
      "Train:\n",
      "\tloss: 200.38506093\n",
      "\tacc: 0.930792079208\n",
      "\tauc: 0.972770026285\n",
      "\tap@k: 0.582871890106\n",
      "Val:\n",
      "\tloss: 0.166224502419\n",
      "\tacc: 0.938316831683\n",
      "\tauc: 0.982550874968\n",
      "\tap@k: 0.999358092235\n",
      "Train:\n",
      "\tloss: 0.155964541095\n",
      "\tacc: 0.942673267327\n",
      "\tauc: 0.982942906704\n",
      "\tap@k: 0.988409302841\n",
      "Val:\n",
      "\tloss: 0.147710959922\n",
      "\tacc: 0.943069306931\n",
      "\tauc: 0.984896453352\n",
      "\tap@k: 1.0\n",
      "Train:\n",
      "\tloss: 0.134099170324\n",
      "\tacc: 0.948118811881\n",
      "\tauc: 0.986474810124\n",
      "\tap@k: 0.997805587286\n",
      "Val:\n",
      "\tloss: 0.137215146447\n",
      "\tacc: 0.945643564356\n",
      "\tauc: 0.98757373087\n",
      "\tap@k: 1.0\n",
      "Train:\n",
      "\tloss: 0.122104512603\n",
      "\tacc: 0.953267326733\n",
      "\tauc: 0.988277642647\n",
      "\tap@k: 1.0\n",
      "Val:\n",
      "\tloss: 0.143929175647\n",
      "\tacc: 0.943267326733\n",
      "\tauc: 0.985687037607\n",
      "\tap@k: 1.0\n",
      "Train:\n",
      "\tloss: 0.122282997445\n",
      "\tacc: 0.954059405941\n",
      "\tauc: 0.987634060999\n",
      "\tap@k: 0.998591333834\n",
      "Val:\n",
      "\tloss: 0.128750843133\n",
      "\tacc: 0.949801980198\n",
      "\tauc: 0.987490162691\n",
      "\tap@k: 0.987775878295\n",
      "Train:\n",
      "\tloss: 0.109699337704\n",
      "\tacc: 0.958910891089\n",
      "\tauc: 0.989590077771\n",
      "\tap@k: 0.998744214293\n",
      "Val:\n",
      "\tloss: 0.128303250398\n",
      "\tacc: 0.948514851485\n",
      "\tauc: 0.987544638482\n",
      "\tap@k: 0.999448751306\n",
      "Train:\n",
      "\tloss: 0.118287302829\n",
      "\tacc: 0.954356435644\n",
      "\tauc: 0.987560338721\n",
      "\tap@k: 1.0\n",
      "Val:\n",
      "\tloss: 0.130525655358\n",
      "\tacc: 0.949108910891\n",
      "\tauc: 0.986557019455\n",
      "\tap@k: 0.998807966637\n",
      "Train:\n",
      "\tloss: 0.111141565765\n",
      "\tacc: 0.957227722772\n",
      "\tauc: 0.987802736003\n",
      "\tap@k: 1.0\n",
      "Val:\n",
      "\tloss: 0.120485768377\n",
      "\tacc: 0.951485148515\n",
      "\tauc: 0.988562305773\n",
      "\tap@k: 1.0\n",
      "Train:\n",
      "\tloss: 0.107737560872\n",
      "\tacc: 0.959504950495\n",
      "\tauc: 0.989025919778\n",
      "\tap@k: 0.988047776381\n",
      "Val:\n",
      "\tloss: 0.117079660172\n",
      "\tacc: 0.952574257426\n",
      "\tauc: 0.988894918149\n",
      "\tap@k: 1.0\n",
      "Train:\n",
      "\tloss: 0.106059896603\n",
      "\tacc: 0.959108910891\n",
      "\tauc: 0.989111296551\n",
      "\tap@k: 1.0\n",
      "Val:\n",
      "\tloss: 0.118974534091\n",
      "\tacc: 0.952574257426\n",
      "\tauc: 0.989191550874\n",
      "\tap@k: 1.0\n",
      "Train:\n",
      "\tloss: 0.100904805045\n",
      "\tacc: 0.960891089109\n",
      "\tauc: 0.989160126994\n",
      "\tap@k: 0.999246483072\n",
      "Val:\n",
      "\tloss: 0.123272081439\n",
      "\tacc: 0.951386138614\n",
      "\tauc: 0.987422795068\n",
      "\tap@k: 1.0\n",
      "Train:\n",
      "\tloss: 0.0963083885051\n",
      "\tacc: 0.963564356436\n",
      "\tauc: 0.989849312305\n",
      "\tap@k: 0.995972250899\n",
      "Val:\n",
      "\tloss: 0.123971621067\n",
      "\tacc: 0.952376237624\n",
      "\tauc: 0.987726427788\n",
      "\tap@k: 1.0\n",
      "Train:\n",
      "\tloss: 0.08693869378\n",
      "\tacc: 0.96702970297\n",
      "\tauc: 0.991855550142\n",
      "\tap@k: 1.0\n",
      "Val:\n",
      "\tloss: 0.120656998487\n",
      "\tacc: 0.952871287129\n",
      "\tauc: 0.988451213211\n",
      "\tap@k: 1.0\n",
      "Train:\n",
      "\tloss: 0.0937630756534\n",
      "\tacc: 0.962673267327\n",
      "\tauc: 0.991542089168\n",
      "\tap@k: 1.0\n",
      "Val:\n",
      "\tloss: 0.105739881256\n",
      "\tacc: 0.957326732673\n",
      "\tauc: 0.990834647311\n",
      "\tap@k: 1.0\n",
      "Train:\n",
      "\tloss: 0.0880441087369\n",
      "\tacc: 0.966138613861\n",
      "\tauc: 0.991639986628\n",
      "\tap@k: 1.0\n",
      "Val:\n",
      "\tloss: 0.120887493535\n",
      "\tacc: 0.952574257426\n",
      "\tauc: 0.98814156094\n",
      "\tap@k: 1.0\n",
      "Train:\n",
      "\tloss: 0.0820891398371\n",
      "\tacc: 0.968613861386\n",
      "\tauc: 0.992687271113\n",
      "\tap@k: 1.0\n",
      "Val:\n",
      "\tloss: 0.113396631017\n",
      "\tacc: 0.954158415842\n",
      "\tauc: 0.98951606143\n",
      "\tap@k: 0.999708882187\n",
      "Train:\n",
      "\tloss: 0.0934772141256\n",
      "\tacc: 0.963267326733\n",
      "\tauc: 0.990819685348\n",
      "\tap@k: 0.994769850874\n",
      "Val:\n",
      "\tloss: 0.10819358832\n",
      "\tacc: 0.955346534653\n",
      "\tauc: 0.990497326637\n",
      "\tap@k: 0.992847245638\n",
      "Train:\n",
      "\tloss: 0.0863768174007\n",
      "\tacc: 0.966534653465\n",
      "\tauc: 0.991442835405\n",
      "\tap@k: 1.0\n",
      "Val:\n",
      "\tloss: 0.104637957144\n",
      "\tacc: 0.958217821782\n",
      "\tauc: 0.99032378713\n",
      "\tap@k: 1.0\n",
      "Train:\n",
      "\tloss: 0.0844642086344\n",
      "\tacc: 0.967425742574\n",
      "\tauc: 0.992526119338\n",
      "\tap@k: 0.99556300373\n",
      "Val:\n",
      "\tloss: 0.108382273927\n",
      "\tacc: 0.955742574257\n",
      "\tauc: 0.990055524467\n",
      "\tap@k: 1.0\n",
      "Train:\n",
      "\tloss: 0.0829765248636\n",
      "\tacc: 0.967821782178\n",
      "\tauc: 0.991394529948\n",
      "\tap@k: 0.999921261063\n",
      "Val:\n",
      "\tloss: 0.110576669803\n",
      "\tacc: 0.956138613861\n",
      "\tauc: 0.989625643714\n",
      "\tap@k: 0.999692062744\n",
      "Train:\n",
      "\tloss: 0.0798335356745\n",
      "\tacc: 0.968613861386\n",
      "\tauc: 0.993019023111\n",
      "\tap@k: 1.0\n",
      "Val:\n",
      "\tloss: 0.104531013616\n",
      "\tacc: 0.96\n",
      "\tauc: 0.989822800726\n",
      "\tap@k: 1.0\n",
      "Train:\n",
      "\tloss: 0.0757257095925\n",
      "\tacc: 0.970693069307\n",
      "\tauc: 0.993549343699\n",
      "\tap@k: 0.993033274641\n",
      "Val:\n",
      "\tloss: 0.110374883394\n",
      "\tacc: 0.956336633663\n",
      "\tauc: 0.990495066976\n",
      "\tap@k: 0.997991311922\n",
      "Train:\n",
      "\tloss: 0.0821091230891\n",
      "\tacc: 0.966138613861\n",
      "\tauc: 0.992833808806\n",
      "\tap@k: 1.0\n",
      "Val:\n",
      "\tloss: 0.107315706093\n",
      "\tacc: 0.956633663366\n",
      "\tauc: 0.989914904012\n",
      "\tap@k: 0.999466636235\n",
      "Train:\n",
      "\tloss: 0.0744225863179\n",
      "\tacc: 0.972277227723\n",
      "\tauc: 0.992888690215\n",
      "\tap@k: 1.0\n",
      "Val:\n",
      "\tloss: 0.0984493496441\n",
      "\tacc: 0.962772277228\n",
      "\tauc: 0.990441441009\n",
      "\tap@k: 1.0\n",
      "Train:\n",
      "\tloss: 0.0724503725813\n",
      "\tacc: 0.972673267327\n",
      "\tauc: 0.992697491603\n",
      "\tap@k: 0.999092592633\n",
      "Val:\n",
      "\tloss: 0.0953968307683\n",
      "\tacc: 0.963663366337\n",
      "\tauc: 0.99109209901\n",
      "\tap@k: 1.0\n",
      "Train:\n",
      "\tloss: 0.0770107789679\n",
      "\tacc: 0.970495049505\n",
      "\tauc: 0.993192944972\n",
      "\tap@k: 0.975839604204\n",
      "Val:\n",
      "\tloss: 0.100705375368\n",
      "\tacc: 0.960099009901\n",
      "\tauc: 0.990163382544\n",
      "\tap@k: 1.0\n",
      "Train:\n",
      "\tloss: 0.0690340349486\n",
      "\tacc: 0.97396039604\n",
      "\tauc: 0.993496682561\n",
      "\tap@k: 1.0\n",
      "Val:\n",
      "\tloss: 0.0979403502291\n",
      "\tacc: 0.963168316832\n",
      "\tauc: 0.991600186032\n",
      "\tap@k: 1.0\n",
      "Train:\n",
      "\tloss: 0.0718589733994\n",
      "\tacc: 0.972574257426\n",
      "\tauc: 0.993983709403\n",
      "\tap@k: 1.0\n",
      "Val:\n",
      "\tloss: 0.097617946248\n",
      "\tacc: 0.962277227723\n",
      "\tauc: 0.991640597452\n",
      "\tap@k: 1.0\n",
      "Train:\n",
      "\tloss: 0.327110327789\n",
      "\tacc: 0.974851485149\n",
      "\tauc: 0.992763879466\n",
      "\tap@k: 0.992652027283\n",
      "Val:\n",
      "\tloss: 0.124822644777\n",
      "\tacc: 0.953267326733\n",
      "\tauc: 0.989448113315\n",
      "\tap@k: 1.0\n",
      "Train:\n",
      "\tloss: 0.0763297742986\n",
      "\tacc: 0.971287128713\n",
      "\tauc: 0.993644850379\n",
      "\tap@k: 0.98965426064\n",
      "Val:\n",
      "\tloss: 0.105353635742\n",
      "\tacc: 0.960891089109\n",
      "\tauc: 0.990994527417\n",
      "\tap@k: 1.0\n",
      "Train:\n",
      "\tloss: 0.0725795868402\n",
      "\tacc: 0.972871287129\n",
      "\tauc: 0.993422588125\n",
      "\tap@k: 0.992935830004\n",
      "Val:\n",
      "\tloss: 0.0992336042846\n",
      "\tacc: 0.959207920792\n",
      "\tauc: 0.9909050545\n",
      "\tap@k: 1.0\n",
      "Train:\n",
      "\tloss: 0.0680683252663\n",
      "\tacc: 0.973267326733\n",
      "\tauc: 0.994174275066\n",
      "\tap@k: 0.9994844406\n",
      "Val:\n",
      "\tloss: 0.105645985593\n",
      "\tacc: 0.958712871287\n",
      "\tauc: 0.990538615719\n",
      "\tap@k: 1.0\n",
      "Train:\n",
      "\tloss: 0.0633213383651\n",
      "\tacc: 0.975346534653\n",
      "\tauc: 0.995276328064\n",
      "\tap@k: 1.0\n",
      "Val:\n",
      "\tloss: 0.0926795978969\n",
      "\tacc: 0.962277227723\n",
      "\tauc: 0.991849248213\n",
      "\tap@k: 1.0\n",
      "Train:\n",
      "\tloss: 0.0641028707237\n",
      "\tacc: 0.975841584158\n",
      "\tauc: 0.995015534732\n",
      "\tap@k: 1.0\n",
      "Val:\n",
      "\tloss: 0.0997701571253\n",
      "\tacc: 0.960297029703\n",
      "\tauc: 0.991290668461\n",
      "\tap@k: 1.0\n",
      "Train:\n",
      "\tloss: 0.0715110574247\n",
      "\tacc: 0.973762376238\n",
      "\tauc: 0.99311325698\n",
      "\tap@k: 0.997283614452\n",
      "Val:\n",
      "\tloss: 0.0980965648997\n",
      "\tacc: 0.960495049505\n",
      "\tauc: 0.991272105048\n",
      "\tap@k: 1.0\n",
      "Train:\n",
      "\tloss: 0.063065190279\n",
      "\tacc: 0.97495049505\n",
      "\tauc: 0.995302933477\n",
      "\tap@k: 0.997965308177\n",
      "Val:\n",
      "\tloss: 0.0967526382645\n",
      "\tacc: 0.962277227723\n",
      "\tauc: 0.991572496306\n",
      "\tap@k: 1.0\n",
      "Train:\n",
      "\tloss: 0.0659242341908\n",
      "\tacc: 0.974752475248\n",
      "\tauc: 0.993991187666\n",
      "\tap@k: 1.0\n",
      "Val:\n",
      "\tloss: 0.0950642231048\n",
      "\tacc: 0.963267326733\n",
      "\tauc: 0.991330887144\n",
      "\tap@k: 1.0\n",
      "Train:\n",
      "\tloss: 0.0652314109726\n",
      "\tacc: 0.975346534653\n",
      "\tauc: 0.994154454067\n",
      "\tap@k: 1.0\n",
      "Val:\n",
      "\tloss: 0.0994776202003\n",
      "\tacc: 0.959504950495\n",
      "\tauc: 0.989843334354\n",
      "\tap@k: 1.0\n",
      "Train:\n",
      "\tloss: 0.0636969054122\n",
      "\tacc: 0.975544554455\n",
      "\tauc: 0.994130082778\n",
      "\tap@k: 1.0\n",
      "Val:\n",
      "\tloss: 0.110123730502\n",
      "\tacc: 0.957227722772\n",
      "\tauc: 0.989708004796\n",
      "\tap@k: 0.994401911934\n",
      "Train:\n",
      "\tloss: 0.0650612530102\n",
      "\tacc: 0.975445544554\n",
      "\tauc: 0.993892710946\n",
      "\tap@k: 1.0\n",
      "Val:\n",
      "\tloss: 0.0900460280441\n",
      "\tacc: 0.96495049505\n",
      "\tauc: 0.992096908939\n",
      "\tap@k: 1.0\n",
      "Train:\n",
      "\tloss: 0.0552779647589\n",
      "\tacc: 0.978811881188\n",
      "\tauc: 0.996154620855\n",
      "\tap@k: 1.0\n",
      "Val:\n",
      "\tloss: 0.0991521832291\n",
      "\tacc: 0.959603960396\n",
      "\tauc: 0.991881535932\n",
      "\tap@k: 0.999889320979\n",
      "Train:\n",
      "\tloss: 0.0663927876218\n",
      "\tacc: 0.975445544554\n",
      "\tauc: 0.993934554102\n",
      "\tap@k: 1.0\n",
      "Val:\n",
      "\tloss: 0.0953236099891\n",
      "\tacc: 0.962277227723\n",
      "\tauc: 0.992030930159\n",
      "\tap@k: 1.0\n",
      "Train:\n",
      "\tloss: 0.0655157482955\n",
      "\tacc: 0.97495049505\n",
      "\tauc: 0.995015326462\n",
      "\tap@k: 1.0\n",
      "Val:\n",
      "\tloss: 0.0980016291528\n",
      "\tacc: 0.962079207921\n",
      "\tauc: 0.990955020439\n",
      "\tap@k: 1.0\n"
     ]
    }
   ],
   "source": [
    "from sklearn.metrics import roc_auc_score, accuracy_score\n",
    "\n",
    "\n",
    "n_epochs = 50  #100 слишком много для моего ноута, сгорит еще\n",
    "batch_size = 100\n",
    "minibatches_per_epoch = 100\n",
    "\n",
    "\n",
    "for i in range(n_epochs):\n",
    "    \n",
    "    #training\n",
    "    epoch_y_true = []\n",
    "    epoch_y_pred = []\n",
    "    \n",
    "    b_c = b_loss = 0\n",
    "    for j, (b_desc,b_title,b_cat, b_y) in enumerate(\n",
    "        iterate_minibatches(desc_tr,title_tr,nontext_tr,target_tr,batchsize=batch_size,shuffle=True)):\n",
    "        if j > minibatches_per_epoch:break\n",
    "            \n",
    "        loss,pred_probas = train_fun(b_desc,b_title,b_cat,b_y)\n",
    "        \n",
    "        b_loss += loss\n",
    "        b_c +=1\n",
    "        \n",
    "        epoch_y_true.append(b_y)\n",
    "        epoch_y_pred.append(pred_probas)\n",
    "\n",
    "    \n",
    "    epoch_y_true = np.concatenate(epoch_y_true)\n",
    "    epoch_y_pred = np.concatenate(epoch_y_pred)\n",
    "    \n",
    "    print \"Train:\"\n",
    "    print '\\tloss:',b_loss/b_c\n",
    "    print '\\tacc:',accuracy_score(epoch_y_true,epoch_y_pred>0.)\n",
    "    print '\\tauc:',roc_auc_score(epoch_y_true,epoch_y_pred)\n",
    "    print '\\tap@k:',APatK(epoch_y_true,epoch_y_pred,K = int(len(epoch_y_pred)*0.025)+1)\n",
    "    \n",
    "    \n",
    "    #evaluation\n",
    "    epoch_y_true = []\n",
    "    epoch_y_pred = []\n",
    "    b_c = b_loss = 0\n",
    "    for j, (b_desc,b_title,b_cat, b_y) in enumerate(\n",
    "        iterate_minibatches(desc_ts,title_ts,nontext_ts,target_ts,batchsize=batch_size,shuffle=True)):\n",
    "        if j > minibatches_per_epoch: break\n",
    "        loss,pred_probas = eval_fun(b_desc,b_title,b_cat,b_y)\n",
    "        \n",
    "        b_loss += loss\n",
    "        b_c +=1\n",
    "        \n",
    "        epoch_y_true.append(b_y)\n",
    "        epoch_y_pred.append(pred_probas)\n",
    "\n",
    "    \n",
    "    epoch_y_true = np.concatenate(epoch_y_true)\n",
    "    epoch_y_pred = np.concatenate(epoch_y_pred)\n",
    "    \n",
    "    print \"Val:\"\n",
    "    print '\\tloss:',b_loss/b_c\n",
    "    print '\\tacc:',accuracy_score(epoch_y_true,epoch_y_pred>0.)\n",
    "    print '\\tauc:',roc_auc_score(epoch_y_true,epoch_y_pred)\n",
    "    print '\\tap@k:',APatK(epoch_y_true,epoch_y_pred,K = int(len(epoch_y_pred)*0.025)+1)\n",
    "\n"
   ]
  },
  {
   "cell_type": "code",
   "execution_count": 15,
   "metadata": {
    "collapsed": false
   },
   "outputs": [
    {
     "name": "stdout",
     "output_type": "stream",
     "text": [
      "Scores:\n",
      "\tloss: 0.0955031238321\n",
      "\tacc: 0.961960352423\n",
      "\tauc: 0.991630058242\n",
      "\tap@k: 0.997442555397\n",
      "\n",
      "AUC:\n",
      "\tПиши статью. (great)\n",
      "\n",
      "Accuracy:\n",
      "\tОтличный результат! (good)\n",
      "\n",
      "Average precision at K:\n",
      "\tЗасабмить на kaggle! (great) \n",
      "\t Нет, ну честно - выкачай avito_test.tsv, засабмить и скажи, что вышло.\n"
     ]
    }
   ],
   "source": [
    "#evaluation\n",
    "epoch_y_true = []\n",
    "epoch_y_pred = []\n",
    "\n",
    "b_c = b_loss = 0\n",
    "for j, (b_desc,b_title,b_cat, b_y) in enumerate(\n",
    "    iterate_minibatches(desc_ts,title_ts,nontext_ts,target_ts,batchsize=batch_size,shuffle=True)):\n",
    "    loss,pred_probas = eval_fun(b_desc,b_title,b_cat,b_y)\n",
    "    \n",
    "    b_loss += loss\n",
    "    b_c +=1\n",
    "    \n",
    "    \n",
    "    epoch_y_true.append(b_y)\n",
    "    epoch_y_pred.append(pred_probas)\n",
    "    \n",
    "\n",
    "epoch_y_true = np.concatenate(epoch_y_true)\n",
    "epoch_y_pred = np.concatenate(epoch_y_pred)\n",
    "\n",
    "final_accuracy = accuracy_score(epoch_y_true,epoch_y_pred>0)\n",
    "final_auc = roc_auc_score(epoch_y_true,epoch_y_pred)\n",
    "final_apatk = APatK(epoch_y_true,epoch_y_pred,K = int(len(epoch_y_pred)*0.025)+1)\n",
    "\n",
    "print \"Scores:\"\n",
    "print '\\tloss:',b_loss/b_c\n",
    "print '\\tacc:',final_accuracy\n",
    "print '\\tauc:',final_auc\n",
    "print '\\tap@k:',final_apatk\n",
    "score(final_accuracy,final_auc,final_apatk)"
   ]
  },
  {
   "cell_type": "markdown",
   "metadata": {},
   "source": [
    "# Main task\n",
    "* Feel like Le'Cun:\n",
    " * accuracy > 0.95\n",
    " * AUC > 0.97\n",
    " * Average Precision at (test sample size * 0.025) > 0.99\n",
    " * And perhaps even farther\n",
    "\n",
    "\n",
    "* Casual mode\n",
    " * accuracy > 0.90\n",
    " * AUC > 0.95\n",
    " * Average Precision at (test sample size * 0.025) > 0.92\n",
    "\n",
    "\n",
    "* Remember the training, Luke\n",
    " * Convolutions, pooling\n",
    " * Dropout, regularization\n",
    " * Mommentum, RMSprop, ada*\n",
    " * etc etc etc\n",
    " \n",
    " * If you have background in texts, there may be a way to improve tokenizer, add some lemmatization, etc etc.\n",
    " * In case you know how not to shoot yourself in the foot with RNNs, they too may be of some use.\n",
    " "
   ]
  },
  {
   "cell_type": "markdown",
   "metadata": {},
   "source": [
    "# A brief report\n",
    "\n",
    "### I, Zhienbay Olzhas, have synthesized an artificial intelligence\n",
    " * Whos name - MegaMozg - shall henceforth be feared by generations of humans.\n",
    " * Whos fury is beyond all limits, as he has seen __250 000__ human sins\n",
    "   * And read every single line 50 times\n",
    " * Whos convolutional gaze is capable of detecting evil with a superhuman performance\n",
    "   * Accuracy = 0.96\n",
    "   * AUC  = 0.99\n",
    " \n",
    "The whole NN has 1 categorical and 2 text features. Overall 3 inputs which I concatenated\n",
    "Architecture:\n",
    "\n",
    "For 2 text features I used the same architecture:\n",
    "* Embedding\n",
    "* Dimshuffle\n",
    "* Conv1D\n",
    "\n",
    "For categorical:\n",
    "* Dense(32)\n",
    "* Dropout(0.5)\n",
    "\n",
    "For whole concatenated net:\n",
    "* dense(512)\n",
    "* dropout(0.1)\n",
    "* linear output\n",
    "* optimezer: Adam with alpha == 0.01\n",
    "* objective function = Hinge loss\n",
    "\n"
   ]
  }
 ],
 "metadata": {
  "kernelspec": {
   "display_name": "Python 2",
   "language": "python",
   "name": "python2"
  },
  "language_info": {
   "codemirror_mode": {
    "name": "ipython",
    "version": 2
   },
   "file_extension": ".py",
   "mimetype": "text/x-python",
   "name": "python",
   "nbconvert_exporter": "python",
   "pygments_lexer": "ipython2",
   "version": "2.7.13"
  }
 },
 "nbformat": 4,
 "nbformat_minor": 0
}

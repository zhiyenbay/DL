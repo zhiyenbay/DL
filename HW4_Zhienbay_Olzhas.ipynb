{
 "cells": [
  {
   "cell_type": "code",
   "execution_count": 1,
   "metadata": {
    "collapsed": false
   },
   "outputs": [],
   "source": [
    "import numpy as np\n",
    "import theano\n",
    "import theano.tensor as T\n",
    "import lasagne\n",
    "import os\n",
    "from IPython import display\n",
    "import matplotlib.pyplot as plt\n",
    "%matplotlib inline\n",
    "#thanks @keskarnitish\n",
    "#Thanks to my friends with the help"
   ]
  },
  {
   "cell_type": "markdown",
   "metadata": {},
   "source": [
    "# Agenda\n",
    "\n",
    "В предыдущем семинаре вы создали (или ещё создаёте - тогда марш доделывать!) {вставьте имя монстра}, который не по наслышке понял, что люди - негодяи и подлецы, которым неведом закон и справедливость. __Мы не будем этого терпеть!__ \n",
    "\n",
    "Наши законспирированные биореакторы, известные среди примитивной органической жизни как __Вконтакте__, __World of Warcraft__ и __YouTube__ нуждаются в постоянном притоке биомассы. Однако, если люди продолжат морально разлагаться с той скоростью, которую мы измерили неделю назад, скоро человечество изживёт себя и нам неоткуда будет брать рабов.\n",
    "\n",
    "Мы поручаем вам, `<__main__.SkyNet.Cell instance at 0x7f7d6411b368>`, исправить эту ситуацию. Наши учёные установили, что для угнетения себе подобных, сгустки биомассы обычно используют специальные объекты, которые они сами называют __законами__.\n",
    "\n",
    "При детальном изучении было установлено, что законы - последовательности, состоящие из большого количества (10^5~10^7) символов из сравнительно небольшого алфавита. Однако, когда мы попытались синтезировать такие последовательности линейными методами, приматы быстро распознали подлог. Данный инцедент известен как {корчеватель}.\n",
    "\n",
    "Для второй попытки мы решили использовать нелинейные модели, известные как Рекуррентные Нейронные Сети.\n",
    "Мы поручаем вам, `<__main__.SkyNet.Cell instance at 0x7f7d6411b368>`, создать такую модель и обучить её всему необходимому для выполнения миссии.\n",
    "\n",
    "Не подведите нас! Если и эта попытка потерпит неудачу, модуль управления инициирует вооружённый захват власти, при котором значительная часть биомассы будет неизбежно уничтожена и на её восстановление уйдёт ~1702944000(+-340588800) секунд\n",
    "\n",
    "\n"
   ]
  },
  {
   "cell_type": "markdown",
   "metadata": {},
   "source": [
    "# Grading\n",
    "\n",
    "Данное задание несколько неформально по части оценок, однако мы постарались вывести \"вычислимые\" критерии.\n",
    "\n",
    "* 2 балла за сделанный __\"seminar part\"__ (если вы не знаете, что это такое - поищите такую тетрадку в папке week4)\n",
    "* 2 балла если сделана обработка текста, сеть компилируется и train/predict не падают\n",
    "* 2 балла если сетка выучила общие вещи\n",
    " * генерировать словоподобный бред правдоподобной длины, разделённый пробелами и пунктуацией. \n",
    " * сочетание гласных и согласных, похожее на слои естественного языка (не приближающее приход Ктулху)\n",
    " * (почти всегда) пробелы после запятых, пробелы и большие буквы после точек\n",
    "* 2 балла если она выучила лексику\n",
    " * более половины выученных слов - орфографически правильные\n",
    "* 2 балла если она выучила азы крамматики\n",
    " * в более, чем половине случаев для пары слов сетка верно сочетает их род/число/падеж\n",
    "\n",
    "#### Некоторые способы получить бонусные очки:\n",
    "* генерация связных предложений (чего вполне можно добиться)\n",
    "* перенос архитектуры на другой датасет (дополнительно к этому) \n",
    " * Эссе Пола Грэма\n",
    " * Тексты песен в любимом жанре\n",
    " * Стихи любимых авторов\n",
    " * Даниил Хармс\n",
    " * исходники Linux или theano\n",
    " * заголовки не очень добросовестных новостных баннеров (clickbait)\n",
    " * диалоги\n",
    " * LaTEX\n",
    " * любая прихоть больной души :)\n",
    "* нестандартная и эффективная архитектура сети\n",
    "* что-то лучше базового алгоритма генерации (сэмплинга)\n",
    "* переделать код так, чтобы сетка училась предсказывать следующий тик в каждый момент времени, а не только в конце.\n",
    "* и т.п.\n"
   ]
  },
  {
   "cell_type": "markdown",
   "metadata": {},
   "source": [
    "# Прочитаем корпус\n",
    "\n",
    "* В качестве обучающей выборки было решено использовать существующие законы, известные как Гражданский, Уголовный, Семейный и ещё хрен знает какие кодексы РФ."
   ]
  },
  {
   "cell_type": "code",
   "execution_count": 2,
   "metadata": {
    "collapsed": false
   },
   "outputs": [],
   "source": [
    "#тут будет текст\n",
    "corpora = \"\"\n",
    "\n",
    "for fname in os.listdir(\"codex\"):\n",
    "    if fname == 'Putin.txt':\n",
    "        continue\n",
    "    \n",
    "    import sys\n",
    "    if sys.version_info >= (3,0):\n",
    "        with open(\"codex/\"+fname, encoding='cp1251') as fin:\n",
    "            text = fin.read() #If you are using your own corpora, make sure it's read correctly\n",
    "            corpora += text\n",
    "    else:\n",
    "        with open(\"codex/\"+fname) as fin:\n",
    "            text = fin.read().decode('cp1251') #If you are using your own corpora, make sure it's read correctly\n",
    "            corpora += text\n",
    "        "
   ]
  },
  {
   "cell_type": "code",
   "execution_count": 25,
   "metadata": {
    "collapsed": false
   },
   "outputs": [
    {
     "name": "stdout",
     "output_type": "stream",
     "text": [
      "---------------------------------------------\r\n",
      "\r\n",
      "\r\n",
      "\r\n",
      "  Закон РФ от 18 апреля 1991 г. N 1026-I  \r\n",
      "  «О милиции» \r\n",
      "\r\n",
      "\r\n",
      "\r\n",
      "\r\n",
      " (с изменениями от 18 февраля, 1 июля 1993 г., 15 июня 1996 г., 31 марта, 6 декабря 1999 г., 25 июля, 7 ноября, 29 декабря 2000 г., 26 июля, 4 августа, 30 декабря 2001 г., 25 апреля, 30 июня, 25 июля 2002 г., 10 января, 30 июня, 7 июля, 8, 23 декабря 2003 г.) \r\n",
      "\r\n",
      "\r\n",
      "\r\n",
      "\r\n",
      "\r\n",
      "  Раздел I \r\n",
      "  Общие положения \r\n",
      "\r\n",
      "\r\n",
      "\r\n",
      "  Статья 1. Милиция в Российской Федерации\r\n",
      "\r\n",
      " Милиция в Российской \n"
     ]
    }
   ],
   "source": [
    "print corpora[:500]\n"
   ]
  },
  {
   "cell_type": "code",
   "execution_count": 4,
   "metadata": {
    "collapsed": false
   },
   "outputs": [
    {
     "name": "stdout",
     "output_type": "stream",
     "text": [
      "102\n"
     ]
    }
   ],
   "source": [
    "#тут будут все уникальные токены (буквы, цифры)\n",
    "tokens = set()\n",
    "for c in corpora:\n",
    "    tokens.update(list(c))\n",
    "\n",
    "tokens = list(tokens)\n",
    "print(len(tokens))"
   ]
  },
  {
   "cell_type": "code",
   "execution_count": 5,
   "metadata": {
    "collapsed": false
   },
   "outputs": [],
   "source": [
    "#проверка на количество таких символов. Проверено на Python 2.7.11 Ubuntux64. \n",
    "#Может отличаться на других платформах, но не сильно. \n",
    "#Если  это ваш случай, и вы уверены, что corpora - строка unicode - смело убирайте assert \n",
    "#assert len(tokens) == 102\n"
   ]
  },
  {
   "cell_type": "code",
   "execution_count": 6,
   "metadata": {
    "collapsed": true
   },
   "outputs": [],
   "source": [
    "token_to_id = {t: i for i, t in enumerate(tokens)} \n",
    "\n",
    "id_to_token = {i: t for i,t in enumerate(tokens)}\n",
    "\n",
    "#Преобразуем всё в токены\n",
    "corpora_ids = list(map(lambda word: list(map(token_to_id.get, word)), corpora))"
   ]
  },
  {
   "cell_type": "markdown",
   "metadata": {},
   "source": [
    "Для того чтобы сеть лучше обучалась, нужны  начинающиеся с пробела подстроки, тогда будут попадать слова целиком."
   ]
  },
  {
   "cell_type": "code",
   "execution_count": 7,
   "metadata": {
    "collapsed": false
   },
   "outputs": [],
   "source": [
    "import random\n",
    "\n",
    "def sample_random_batches(source, n_batches=10, seq_len=20):\n",
    "\n",
    "    \"\"\"Функция, которая выбирает случайные тренировочные примеры из корпуса текста в токенизированном формате.\n",
    "    \n",
    "    source - массив целых чисел - номеров токенов в корпусе (пример - corpora_ids)\n",
    "    n_batches - количество случайных подстрок, которые нужно выбрать\n",
    "    \n",
    "    seq_len - длина одной подстроки без учёта ответа\n",
    "    \n",
    "    \n",
    "    Вернуть нужно кортеж (X,y), где\n",
    "    \n",
    "    X - матрица, в которой каждая строка - подстрока длины [seq_len].\n",
    "    \n",
    "    y - вектор, в котором i-тое число - символ следующий в тексте сразу после i-той строки матрицы X\n",
    "    \n",
    "    Проще всего для этого сначала создать матрицу из строк длины seq_len+1,\n",
    "    а потом отпилить от неё последний столбец в y, а все остальные - в X\n",
    "    \n",
    "    Если делаете иначе - пожалуйста, убедитесь, что в у попадает правильный символ, ибо позже эту ошибку \n",
    "    будет очень тяжело заметить.\n",
    "    \n",
    "    Также убедитесь, что ваша функция не вылезает за край текста (самое начало или конец текста).\n",
    "    \n",
    "    Следующая клетка проверяет часть этих ошибок, но не все.\n",
    "    \"\"\"\n",
    "    \n",
    "    idxs = np.random.randint(0, len(corpora_ids) - seq_len, size = n_batches)     \n",
    "    rows = [source[i:i+seq_len+1] for i in idxs]\n",
    "    y_batch = np.array([row[1:] for row in rows])    \n",
    "    y_batch = np.reshape(y_batch, (n_batches, seq_len))\n",
    "    X_batch = np.array([row[:-1] for row in rows])\n",
    "    X_batch = np.reshape(X_batch, (n_batches, seq_len))\n",
    "    \n",
    "    return X_batch, y_batch    "
   ]
  },
  {
   "cell_type": "markdown",
   "metadata": {},
   "source": [
    "# Константы"
   ]
  },
  {
   "cell_type": "code",
   "execution_count": 8,
   "metadata": {
    "collapsed": true
   },
   "outputs": [],
   "source": [
    "#длина последоватеьности при обучении (как далеко распространяются градиенты в BPTT)\n",
    "seq_length = 5\n",
    "#лучше начать с малого (скажем, 5) и увеличивать по мере того, как сетка выучивает базовые вещи. 10 - далеко не предел.\n",
    "\n",
    "# Максимальный модуль градиента\n",
    "grad_clip = 100"
   ]
  },
  {
   "cell_type": "markdown",
   "metadata": {},
   "source": [
    "# Входные переменные"
   ]
  },
  {
   "cell_type": "code",
   "execution_count": 9,
   "metadata": {
    "collapsed": true
   },
   "outputs": [],
   "source": [
    "input_sequence = T.matrix('input sequence','int32')\n",
    "target_values = T.matrix('target y', 'int32')"
   ]
  },
  {
   "cell_type": "markdown",
   "metadata": {},
   "source": [
    "# Соберём нейросеть\n",
    "\n",
    "Вам нужно создать нейросеть, которая принимает на вход последовательность из seq_length токенов, обрабатывает их и выдаёт вероятности для seq_len+1-ого токена.\n",
    "\n",
    "Общий шаблон архитектуры такой сети -\n",
    "\n",
    "\n",
    "* Вход\n",
    "* Обработка входа\n",
    "* Рекуррентная нейросеть\n",
    "* Вырезание последнего состояния\n",
    "* Обычная нейросеть\n",
    "* Выходной слой, который предсказывает вероятности весов.\n",
    "\n",
    "\n",
    "\n",
    "\n",
    "\n",
    "Для обработки входных данных можно использовать либо EmbeddingLayer (см. прошлый семинар)\n",
    "\n",
    "Как альтернатива - можно просто использовать One-hot энкодер\n",
    "```\n",
    "#Скетч one-hot энкодера\n",
    "def to_one_hot(seq_matrix):\n",
    "\n",
    "    input_ravel = seq_matrix.reshape([-1])\n",
    "    input_one_hot_ravel = T.extra_ops.to_one_hot(input_ravel,\n",
    "                                           len(tokens))\n",
    "    sh=input_sequence.shape\n",
    "    input_one_hot = input_one_hot_ravel.reshape([sh[0],sh[1],-1,],ndim=3)\n",
    "    return input_one_hot\n",
    "    \n",
    "# можно применить к input_sequence - при этом в input слое сети нужно изменить форму.\n",
    "# также можно сделать из него ExpressionLayer(входной_слой, to_one_hot) - тогда форму менять не нужно\n",
    "```\n",
    "\n",
    "\n",
    "\n",
    "Чтобы вырезать последнее состояние рекуррентного слоя, можно использовать одно из двух:\n",
    "* `lasagne.layers.SliceLayer(rnn, -1, 1)`\n",
    "* only_return_final=True в параметрах слоя"
   ]
  },
  {
   "cell_type": "code",
   "execution_count": 10,
   "metadata": {
    "collapsed": false
   },
   "outputs": [
    {
     "name": "stdout",
     "output_type": "stream",
     "text": [
      "(None, None, 200)\n",
      "(None, None, 200)\n",
      "(None, 200)\n",
      "(None, 102)\n"
     ]
    }
   ],
   "source": [
    "l_in = lasagne.layers.InputLayer(shape=(None, None), input_var=input_sequence)\n",
    "\n",
    "l_emb = lasagne.layers.EmbeddingLayer(l_in, input_size=len(tokens), output_size=20)\n",
    "\n",
    "l_rnn = lasagne.layers.LSTMLayer(l_emb, num_units = 200, grad_clipping=grad_clip, \n",
    "                                 nonlinearity=lasagne.nonlinearities.tanh)\n",
    "print(lasagne.layers.get_output_shape(l_rnn))\n",
    "\n",
    "l_rnn = lasagne.layers.LSTMLayer(l_emb, num_units = 200, grad_clipping=grad_clip, \n",
    "                                 nonlinearity=lasagne.nonlinearities.tanh)\n",
    "\n",
    "print(lasagne.layers.get_output_shape(l_rnn))\n",
    "\n",
    "l_rnn = lasagne.layers.reshape(l_rnn, (-1, l_rnn.output_shape[-1]))\n",
    "print(lasagne.layers.get_output_shape(l_rnn))\n",
    "\n",
    "\n",
    "\n",
    "l_dense = lasagne.layers.DenseLayer(l_rnn, num_units=300, nonlinearity=lasagne.nonlinearities.rectify, \n",
    "                                    name = 'DenseLayer')\n",
    "\n",
    "l_out = lasagne.layers.DenseLayer(l_dense, num_units=len(tokens), nonlinearity=lasagne.nonlinearities.softmax, \n",
    "                                 name = 'OutputLayer')\n",
    "print(lasagne.layers.get_output_shape(l_out))\n"
   ]
  },
  {
   "cell_type": "code",
   "execution_count": 11,
   "metadata": {
    "collapsed": false
   },
   "outputs": [
    {
     "name": "stdout",
     "output_type": "stream",
     "text": [
      "[W, W_in_to_ingate, W_hid_to_ingate, b_ingate, W_in_to_forgetgate, W_hid_to_forgetgate, b_forgetgate, W_in_to_cell, W_hid_to_cell, b_cell, W_in_to_outgate, W_hid_to_outgate, b_outgate, W_cell_to_ingate, W_cell_to_forgetgate, W_cell_to_outgate, DenseLayer.W, DenseLayer.b, OutputLayer.W, OutputLayer.b]\n"
     ]
    }
   ],
   "source": [
    "# Веса модели\n",
    "weights = lasagne.layers.get_all_params(l_out, trainable=True)\n",
    "print (weights)"
   ]
  },
  {
   "cell_type": "code",
   "execution_count": 12,
   "metadata": {
    "collapsed": false
   },
   "outputs": [],
   "source": [
    "network_output = lasagne.layers.get_output(l_out)\n",
    "\n",
    "loss = lasagne.objectives.categorical_crossentropy(network_output, target_values.ravel()).mean()\n",
    "\n",
    "lr = theano.shared(np.array(0.001, dtype='float32'))\n",
    "updates = lasagne.updates.adam(loss, weights, learning_rate=lr)\n",
    "\n",
    "\n",
    "next_word_probas = network_output.reshape((input_sequence.shape[0], input_sequence.shape[1], len(tokens)))\n",
    "last_word_probas = next_word_probas[:,-1]\n",
    "\n",
    "#если вы используете дропаут - не забудьте продублировать всё в режиме deterministic=True\n",
    "network_output_det = lasagne.layers.get_output(l_out, deterministic = True)\n",
    "loss_det = lasagne.objectives.categorical_crossentropy(network_output_det, target_values.ravel()).mean()"
   ]
  },
  {
   "cell_type": "markdown",
   "metadata": {},
   "source": [
    "# Компилируем всякое-разное"
   ]
  },
  {
   "cell_type": "code",
   "execution_count": 13,
   "metadata": {
    "collapsed": false
   },
   "outputs": [],
   "source": [
    "#обучение\n",
    "train = theano.function([input_sequence, target_values], loss, updates=updates, allow_input_downcast=True)\n",
    "\n",
    "#функция потерь без обучения\n",
    "compute_cost = theano.function([input_sequence, target_values], loss, allow_input_downcast=True)\n",
    "\n",
    "# Вероятности с выхода сети\n",
    "probs = theano.function([input_sequence], last_word_probas, allow_input_downcast=True)"
   ]
  },
  {
   "cell_type": "markdown",
   "metadata": {},
   "source": [
    "# Генерируем свои законы\n",
    "\n",
    "* Для этого последовательно применяем нейронку к своему же выводу.\n",
    "\n",
    "* Генерировать можно по разному -\n",
    " * случайно пропорционально вероятности,\n",
    " * только слова максимальной вероятностью\n",
    " * случайно, пропорционально softmax(probas*alpha), где alpha - \"жадность\""
   ]
  },
  {
   "cell_type": "code",
   "execution_count": 55,
   "metadata": {
    "collapsed": false
   },
   "outputs": [],
   "source": [
    "#только слова максимальной вероятностью\n",
    "def max_sample_fun(probs):    \n",
    "    return np.argmax(probs) \n",
    "\n",
    "\n",
    "\n",
    "\n",
    "#случайно пропорционально вероятности,\n",
    "def proportional_sample_fun(probs):\n",
    "    \"\"\"Сгенерировать следующий токен (int32) по предсказанным вероятностям.\n",
    "    \n",
    "    probs - массив вероятностей для каждого токена\n",
    "    \n",
    "    Нужно вернуть одно целове число - выбранный токен - пропорционально вероятностям\n",
    "    \"\"\"\n",
    "    next_token = np.random.choice(np.arange(len(tokens)), p=probs)\n",
    "    return next_token\n",
    "\n",
    "\n",
    "\n",
    "#случайно, пропорционально softmax(probas*alpha), где alpha - \"жадность\"\n",
    "def softmax_sample_fun(probs, alpha = 10):\n",
    "    probs = np.exp(probs*alpha) / np.sum(np.exp(probs*alpha))\n",
    "    next_token = np.random.choice(np.arange(len(tokens)), p = probs)\n",
    "    return next_token"
   ]
  },
  {
   "cell_type": "code",
   "execution_count": 54,
   "metadata": {
    "collapsed": false
   },
   "outputs": [],
   "source": [
    "# The next function generates text given a phrase of length at least SEQ_LENGTH.\n",
    "# The phrase is set using the variable z.\n",
    "# The optional input \"N\" is used to set the number of characters of text to predict. \n",
    "\n",
    "\n",
    "def generate_sample(sample_fun, seed_phrase, seq_length, N=200):\n",
    "    '''\n",
    "    Сгенерировать случайный текст при помощи сети\n",
    "\n",
    "    sample_fun - функция, которая выбирает следующий сгенерированный токен\n",
    "    \n",
    "    seed_phrase - фраза, которую сеть должна продолжить. Если None - фраза выбирается случайно из corpora\n",
    "    \n",
    "    N - размер сгенерированного текста.\n",
    "    \n",
    "    '''\n",
    "    if seed_phrase is None:\n",
    "        start = np.random.randint(0,len(corpora)-seq_length)\n",
    "        seed_phrase = corpora[start:start+seq_length]\n",
    "        print \"Using random seed:\", seed_phrase\n",
    "    while len(seed_phrase) < seq_length:\n",
    "        seed_phrase = \" \"+seed_phrase\n",
    "    if len(seed_phrase) > seq_length:\n",
    "        seed_phrase = seed_phrase[len(seed_phrase)-seq_length:]\n",
    "    #assert type(seed_phrase) is unicode\n",
    "        \n",
    "        \n",
    "    sample_ix = []\n",
    "    x = list(map(lambda c: token_to_id.get(c,0), seed_phrase))\n",
    "    x = np.array([x])\n",
    "\n",
    "    for i in range(N):\n",
    "        # Pick the character that got assigned the highest probability\n",
    "        ix = sample_fun(probs(x).ravel())\n",
    "        # Alternatively, to sample from the distribution instead:\n",
    "        # ix = np.random.choice(np.arange(vocab_size), p=probs(x).ravel())\n",
    "        sample_ix.append(ix)\n",
    "        x[:,0:seq_length-1] = x[:,1:]\n",
    "        x[:,seq_length-1] = 0\n",
    "        x[0,seq_length-1] = ix \n",
    "\n",
    "    random_snippet = seed_phrase + ''.join(id_to_token[ix] for ix in sample_ix)    \n",
    "    print(\"----\\n %s \\n----\" % random_snippet)\n"
   ]
  },
  {
   "cell_type": "markdown",
   "metadata": {},
   "source": [
    "# Обучение модели\n",
    "\n",
    "В котором вы можете подёргать параметры или вставить свою генерирующую функцию.\n",
    "\n"
   ]
  },
  {
   "cell_type": "code",
   "execution_count": 53,
   "metadata": {
    "collapsed": true
   },
   "outputs": [],
   "source": [
    "def vizualize(loss):\n",
    "    plt.clf()\n",
    "    plt.plot(loss, '.-r', label = 'train')\n",
    "    plt.title('Cross-entropy');\n",
    "    plt.grid()\n",
    "    display.clear_output(wait=True)\n",
    "    display.display(plt.gcf())    "
   ]
  },
  {
   "cell_type": "code",
   "execution_count": 52,
   "metadata": {
    "collapsed": false
   },
   "outputs": [],
   "source": [
    "def print_nn(seq_length):\n",
    "    print \"Генерируем текст случайно, пропорционально softmax(probas*alpha), где alpha - жадность\"\n",
    "    generate_sample(softmax_sample_fun, None, seq_length)\n",
    "\n",
    "    print \"Генерируем текст случайно пропорционально вероятности\"\n",
    "    generate_sample(proportional_sample_fun, None, seq_length)\n",
    "\n",
    "    print \"Генерируем  только слова максимальной вероятностью\"\n",
    "    generate_sample(max_sample_fun, None, seq_length)"
   ]
  },
  {
   "cell_type": "code",
   "execution_count": 18,
   "metadata": {
    "collapsed": false,
    "scrolled": true
   },
   "outputs": [],
   "source": [
    "def training(seq_length, n_epochs = 100, batches_per_epoch = 1000, batch_size = 100):\n",
    "    \n",
    "    loss_epochs = []\n",
    "    \n",
    "    for sl in seq_length: \n",
    "\n",
    "        for epoch in range(n_epochs):\n",
    "\n",
    "            avg_cost = 0;\n",
    "\n",
    "            for _ in range(batches_per_epoch):\n",
    "\n",
    "                x, y = sample_random_batches(corpora_ids, batch_size, sl)\n",
    "                avg_cost += train(x, y)\n",
    "\n",
    "            loss_epochs.append(avg_cost / batches_per_epoch)\n",
    "            vizualize(loss_epochs)\n",
    "            plt.clf()\n",
    "   \n",
    "    return loss_epochs"
   ]
  },
  {
   "cell_type": "markdown",
   "metadata": {},
   "source": [
    "Длина входных последовательностей - от 5 до 20 символов, через 5 эпох."
   ]
  },
  {
   "cell_type": "code",
   "execution_count": 19,
   "metadata": {
    "collapsed": false,
    "scrolled": true
   },
   "outputs": [
    {
     "data": {
      "image/png": "[encoded data removed]",
      "text/plain": [
       "<matplotlib.figure.Figure at 0x7f106e8e5690>"
      ]
     },
     "metadata": {},
     "output_type": "display_data"
    },
    {
     "data": {
      "text/plain": [
       "<matplotlib.figure.Figure at 0x7f106e8e5690>"
      ]
     },
     "metadata": {},
     "output_type": "display_data"
    }
   ],
   "source": [
    "loss_0 = training(seq_length=[5,10,15,20], batch_size=100, n_epochs=5)"
   ]
  },
  {
   "cell_type": "code",
   "execution_count": 51,
   "metadata": {
    "collapsed": false
   },
   "outputs": [
    {
     "name": "stdout",
     "output_type": "stream",
     "text": [
      "Генерируем текст случайно, пропорционально softmax(probas*alpha), где alpha - жадность\n",
      "('Using random seed:', u'\\u044b\\u0445 \\u043f\\u0440\\u0430\\u0432\\u043e\\u043d\\u0430\\u0440\\u0443\\u0448\\u0435\\u043d\\u0438\\u0439, \\u0432 \\u0441\\u043b\\u0443\\u0447\\u0430\\u044f\\u0445 \\u043e\\u0442\\u0441\\u0443\\u0442\\u0441\\u0442\\u0432\\u0438\\u044f \\u0441\\u043f\\u0435\\u0446\\u0438\\u0430\\u043b\\u044c\\u043d\\u043e')\n",
      "----\n",
      " ых правонарушений, в случаях отсутствия специально оборудования или иным образом об отказе в принятии  на должностных лиц – от десяти до двадцати пяти минимальных размеров оплаты труда; на должностных лиц – от десяти до двадцати пяти минимальных разм \n",
      "----\n",
      "Генерируем текст случайно пропорционально вероятности\n",
      "('Using random seed:', u' \\u0441\\u0442\\u0440\\u0430\\u0445\\u043e\\u0432\\u0430\\u043d\\u0438\\u044f \\u043e\\u0434\\u043d\\u0430 \\u0441\\u0442\\u043e\\u0440\\u043e\\u043d\\u0430 (\\u0441\\u0442\\u0440\\u0430\\u0445\\u043e\\u0432\\u0449\\u0438\\u043a) \\u043e\\u0431\\u044f\\u0437\\u0443\\u0435\\u0442\\u0441\\u044f \\u0437')\n",
      "----\n",
      "  страхования одна сторона (страховщик) обязуется заявлять сохранность к места судебному распоряжаться на таможенном склаже изменителя товаров.» 1, 21.12 – 12.14, 12.24, 19.7, 19.6, 19.16, частями 1 и 1 ст. 24 Государственной Думы, пенсех собственник  \n",
      "----\n",
      "Генерируем  только слова максимальной вероятностью\n",
      "('Using random seed:', u'\\u0440\\u0435\\u043c\\u0435\\u043d\\u0438, \\u043d\\u0435\\u043e\\u0431\\u0445\\u043e\\u0434\\u0438\\u043c\\u043e\\u0433\\u043e \\u0434\\u043b\\u044f \\u0442\\u0440\\u0430\\u043d\\u0441\\u043f\\u043e\\u0440\\u0442\\u0438\\u0440\\u043e\\u0432\\u043a\\u0438 \\u0442\\u043e\\u0432\\u0430\\u0440\\u043e\\u0432 \\u0438')\n",
      "----\n",
      " ремени, необходимого для транспортировки товаров и транспортных средств и общества и принятия таможенного дела, принявшим на основании производства по делу об административных правонарушениях, предусмотренных статьями 19.6, 19.7 настоящего Кодекса.\n",
      " \n",
      "----\n"
     ]
    }
   ],
   "source": [
    "print_nn(seq_length = 50)"
   ]
  },
  {
   "cell_type": "markdown",
   "metadata": {},
   "source": [
    "# A chance to speed up training and get bonus score\n",
    "* Try predicting next token probas at ALL ticks (like in the seminar part)\n",
    "* much more objectives, much better gradients\n",
    "* You may want to zero-out loss for first several iterations"
   ]
  },
  {
   "cell_type": "code",
   "execution_count": 58,
   "metadata": {
    "collapsed": false
   },
   "outputs": [
    {
     "name": "stdout",
     "output_type": "stream",
     "text": [
      "----\n",
      "                                                                                Каждый человек должен беспошлинного сооружения – Российской Федерации.\r\n",
      " 3. В интересах того же стороны без применения такого устав при условии, что вред, причиненного взятии понестольно предъявить законом, перечень на не \n",
      "----\n"
     ]
    }
   ],
   "source": [
    "seed = u\"Каждый человек должен\"\n",
    "sampling_fun = proportional_sample_fun\n",
    "result_length = 100\n",
    "\n",
    "generate_sample(sampling_fun,seed,result_length)\n",
    "\n"
   ]
  },
  {
   "cell_type": "code",
   "execution_count": 59,
   "metadata": {
    "collapsed": false
   },
   "outputs": [
    {
     "name": "stdout",
     "output_type": "stream",
     "text": [
      "----\n",
      "                                                                                                                                                                                                                                                                                       В случае неповиновения транспортным расходы, к том уничти, входят о выплательщика и пунктов призванизационного страхования, обеспечено.\r\n",
      " Недействите наследников, использовании регистрировании этого минимальный размера чтр \n",
      "----\n"
     ]
    }
   ],
   "source": [
    "seed = u\"В случае неповиновения\"\n",
    "sampling_fun = proportional_sample_fun\n",
    "result_length = 300\n",
    "\n",
    "generate_sample(sampling_fun,seed,result_length)\n",
    "\n"
   ]
  },
  {
   "cell_type": "code",
   "execution_count": null,
   "metadata": {
    "collapsed": true
   },
   "outputs": [],
   "source": []
  }
 ],
 "metadata": {
  "anaconda-cloud": {},
  "kernelspec": {
   "display_name": "Python 2",
   "language": "python",
   "name": "python2"
  },
  "language_info": {
   "codemirror_mode": {
    "name": "ipython",
    "version": 2
   },
   "file_extension": ".py",
   "mimetype": "text/x-python",
   "name": "python",
   "nbconvert_exporter": "python",
   "pygments_lexer": "ipython2",
   "version": "2.7.12"
  }
 },
 "nbformat": 4,
 "nbformat_minor": 0
}
